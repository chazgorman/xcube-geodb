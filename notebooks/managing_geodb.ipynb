{
 "cells": [
  {
   "cell_type": "markdown",
   "metadata": {},
   "source": [
    "## Manage Data in the Dev GeoDB\n",
    "\n",
    "The Database is hosted at AWS as an RDS service:\n",
    "\n",
    "- Hostname: db-dcfs-geodb.cbfjgqxk302m.eu-central-1.rds.amazonaws.com\n",
    "- Port: 5432\n",
    "- Database postgres\n",
    "- User: postres\n",
    "- PostGIS initialised with: ```CREATE EXTENSION postgis```\n",
    "\n",
    "Schema of the GeoDB:\n",
    "\n",
    "```sql\n",
    "CREATE TABLE \"public\".\"land_use\" (\n",
    "    \"id\" integer DEFAULT nextval('land_user_id_seq') NOT NULL,\n",
    "    \"raba_id\" integer NOT NULL,\n",
    "    \"d_od\" date NOT NULL,\n",
    "    \"geometry\" geometry NOT NULL,\n",
    "    \"raba_pid\" double precision NOT NULL\n",
    ") WITH (oids = false);\n",
    "```\n"
   ]
  },
  {
   "cell_type": "markdown",
   "metadata": {},
   "source": [
    "### Connecting to the Database"
   ]
  },
  {
   "cell_type": "code",
   "execution_count": 1,
   "metadata": {},
   "outputs": [],
   "source": [
    "from dcfs_geodb import GeoDB\n",
    "from dcfs_geodb import PG_DEFAULT_CONNECTION_PARAMETERS"
   ]
  },
  {
   "cell_type": "code",
   "execution_count": 2,
   "metadata": {},
   "outputs": [],
   "source": [
    "PG_DEFAULT_CONNECTION_PARAMETERS['password'] = \"*******\"\n",
    "geodb = GeoDB(con=PG_DEFAULT_CONNECTION_PARAMETERS)"
   ]
  },
  {
   "cell_type": "markdown",
   "metadata": {},
   "source": [
    "__Step deleting data__: _delete_from_geodb_ accepts a connection and a query."
   ]
  },
  {
   "cell_type": "code",
   "execution_count": 9,
   "metadata": {},
   "outputs": [
    {
     "name": "stdout",
     "output_type": "stream",
     "text": [
      "Deleted entries in land_use using: TRUE\n"
     ]
    }
   ],
   "source": [
    "geodb.delete(\"TRUE\")"
   ]
  },
  {
   "cell_type": "markdown",
   "metadata": {},
   "source": [
    "__Step writing data__: _write_to_geodb__ accepts a shapefile name or a geopandas dataframe. Make sure that the data contains the columns: 'RABA_PID', 'RABA_ID', 'D_OD' and 'geometry'"
   ]
  },
  {
   "cell_type": "code",
   "execution_count": 10,
   "metadata": {},
   "outputs": [],
   "source": [
    "srcFile = \"data/sample/land_use.shp\"\n",
    "geodb.write(data_source=srcFile)"
   ]
  }
 ],
 "metadata": {
  "kernelspec": {
   "display_name": "Python 3",
   "language": "python",
   "name": "python3"
  },
  "language_info": {
   "codemirror_mode": {
    "name": "ipython",
    "version": 3
   },
   "file_extension": ".py",
   "mimetype": "text/x-python",
   "name": "python",
   "nbconvert_exporter": "python",
   "pygments_lexer": "ipython3",
   "version": "3.7.3"
  },
  "pycharm": {
   "stem_cell": {
    "cell_type": "raw",
    "source": [],
    "metadata": {
     "collapsed": false
    }
   }
  }
 },
 "nbformat": 4,
 "nbformat_minor": 4
}