{
 "cells": [
  {
   "cell_type": "markdown",
   "metadata": {},
   "source": [
    "## Publish your Collection using the EDC / BC Geoservice\n",
    "\n",
    "Publish you collections as WMS service. The BC geoservice provides access to publishing your collection as a WMS service using the geoDB Python client. Please refer to the [geoserver](https://docs.geoserver.org/latest/en/user/services/wms/reference.html) documentation for configuring the rest API call to your WMS/geojson service. \n",
    "\n",
    "You will have access to this service if you have purchased a large management account. This service is in beta mode. If you find any issues, please report them on our [GitHub Issues page](https://github.com/bcdev/xcube-hub/issues)."
   ]
  },
  {
   "cell_type": "markdown",
   "metadata": {},
   "source": [
    "## Init the GeoDB client"
   ]
  },
  {
   "cell_type": "code",
   "execution_count": 2,
   "metadata": {},
   "outputs": [
    {
     "data": {
      "text/plain": [
       "'geodb_112a590d-cfaf-4bad-bafc-d597f531e98b'"
      ]
     },
     "execution_count": 2,
     "metadata": {},
     "output_type": "execute_result"
    }
   ],
   "source": [
    "from xcube_geodb.core.geodb import GeoDBClient\n",
    "geodb = GeoDBClient()\n",
    "geodb.whoami"
   ]
  },
  {
   "cell_type": "markdown",
   "metadata": {},
   "source": [
    "### Create a Database and Copy some Public Data Across"
   ]
  },
  {
   "cell_type": "code",
   "execution_count": 2,
   "metadata": {},
   "outputs": [],
   "source": [
    "my_database_name = 'my-urban-h'"
   ]
  },
  {
   "cell_type": "code",
   "execution_count": 3,
   "metadata": {},
   "outputs": [
    {
     "data": {
      "text/plain": [
       "<h1>Error: {\"hint\":null,\"details\":null,\"code\":\"P0001\",\"message\":\"Database my-urban-h exists already.\"}</h1>"
      ]
     },
     "execution_count": 3,
     "metadata": {},
     "output_type": "execute_result"
    }
   ],
   "source": [
    "geodb.create_database(my_database_name)"
   ]
  },
  {
   "cell_type": "code",
   "execution_count": 4,
   "metadata": {},
   "outputs": [
    {
     "data": {
      "text/plain": [
       "<h1>Collection ['my-urban-h_SI001L2_LJUBLJANA_UA2018'] deleted</h1>"
      ]
     },
     "execution_count": 4,
     "metadata": {},
     "output_type": "execute_result"
    }
   ],
   "source": [
    "geodb.drop_collection(collection='SI001L2_LJUBLJANA_UA2018', database=my_database_name)"
   ]
  },
  {
   "cell_type": "code",
   "execution_count": 5,
   "metadata": {},
   "outputs": [
    {
     "data": {
      "text/plain": [
       "<h1>Collection copied from eea-urban-atlas/SI001L2_LJUBLJANA_UA2018 to my-urban-h/SI001L2_LJUBLJANA_UA2018</h1>"
      ]
     },
     "execution_count": 5,
     "metadata": {},
     "output_type": "execute_result"
    }
   ],
   "source": [
    "geodb.copy_collection(collection='SI001L2_LJUBLJANA_UA2018', new_collection='SI001L2_LJUBLJANA_UA2018', database='eea-urban-atlas', new_database=my_database_name)"
   ]
  },
  {
   "cell_type": "code",
   "execution_count": 3,
   "metadata": {},
   "outputs": [
    {
     "data": {
      "text/html": [
       "<div>\n",
       "<style scoped>\n",
       "    .dataframe tbody tr th:only-of-type {\n",
       "        vertical-align: middle;\n",
       "    }\n",
       "\n",
       "    .dataframe tbody tr th {\n",
       "        vertical-align: top;\n",
       "    }\n",
       "\n",
       "    .dataframe thead th {\n",
       "        text-align: right;\n",
       "    }\n",
       "</style>\n",
       "<table border=\"1\" class=\"dataframe\">\n",
       "  <thead>\n",
       "    <tr style=\"text-align: right;\">\n",
       "      <th></th>\n",
       "      <th>collection_id</th>\n",
       "      <th>database</th>\n",
       "      <th>default_style</th>\n",
       "      <th>geojson_url</th>\n",
       "      <th>href</th>\n",
       "      <th>name</th>\n",
       "      <th>preview_url</th>\n",
       "      <th>wfs_url</th>\n",
       "    </tr>\n",
       "  </thead>\n",
       "  <tbody>\n",
       "    <tr>\n",
       "      <th>0</th>\n",
       "      <td>my-urban-h_SI001L2_LJUBLJANA_UA2018</td>\n",
       "      <td>None</td>\n",
       "      <td>None</td>\n",
       "      <td>https://stage.xcube-geodb.brockmann-consult.de...</td>\n",
       "      <td>None</td>\n",
       "      <td>my-urban-h_SI001L2_LJUBLJANA_UA2018</td>\n",
       "      <td>https://stage.xcube-geodb.brockmann-consult.de...</td>\n",
       "      <td>https://stage.xcube-geodb.brockmann-consult.de...</td>\n",
       "    </tr>\n",
       "    <tr>\n",
       "      <th>1</th>\n",
       "      <td>my-urban-h_SI001L2_LJUBLJANA_UA2018</td>\n",
       "      <td>None</td>\n",
       "      <td>None</td>\n",
       "      <td>https://stage.xcube-geodb.brockmann-consult.de...</td>\n",
       "      <td>None</td>\n",
       "      <td>my-urban-h_SI001L2_LJUBLJANA_UA2018</td>\n",
       "      <td>https://stage.xcube-geodb.brockmann-consult.de...</td>\n",
       "      <td>https://stage.xcube-geodb.brockmann-consult.de...</td>\n",
       "    </tr>\n",
       "    <tr>\n",
       "      <th>2</th>\n",
       "      <td>OSM-Overlay-WMS</td>\n",
       "      <td>None</td>\n",
       "      <td>None</td>\n",
       "      <td>https://stage.xcube-geodb.brockmann-consult.de...</td>\n",
       "      <td>None</td>\n",
       "      <td>OSM-Overlay-WMS</td>\n",
       "      <td>https://stage.xcube-geodb.brockmann-consult.de...</td>\n",
       "      <td>https://stage.xcube-geodb.brockmann-consult.de...</td>\n",
       "    </tr>\n",
       "    <tr>\n",
       "      <th>3</th>\n",
       "      <td>OSM-WMS</td>\n",
       "      <td>None</td>\n",
       "      <td>None</td>\n",
       "      <td>https://stage.xcube-geodb.brockmann-consult.de...</td>\n",
       "      <td>None</td>\n",
       "      <td>OSM-WMS</td>\n",
       "      <td>https://stage.xcube-geodb.brockmann-consult.de...</td>\n",
       "      <td>https://stage.xcube-geodb.brockmann-consult.de...</td>\n",
       "    </tr>\n",
       "    <tr>\n",
       "      <th>4</th>\n",
       "      <td>SRTM30-Colored</td>\n",
       "      <td>None</td>\n",
       "      <td>None</td>\n",
       "      <td>https://stage.xcube-geodb.brockmann-consult.de...</td>\n",
       "      <td>None</td>\n",
       "      <td>SRTM30-Colored</td>\n",
       "      <td>https://stage.xcube-geodb.brockmann-consult.de...</td>\n",
       "      <td>https://stage.xcube-geodb.brockmann-consult.de...</td>\n",
       "    </tr>\n",
       "    <tr>\n",
       "      <th>5</th>\n",
       "      <td>SRTM30-Colored-Hillshade</td>\n",
       "      <td>None</td>\n",
       "      <td>None</td>\n",
       "      <td>https://stage.xcube-geodb.brockmann-consult.de...</td>\n",
       "      <td>None</td>\n",
       "      <td>SRTM30-Colored-Hillshade</td>\n",
       "      <td>https://stage.xcube-geodb.brockmann-consult.de...</td>\n",
       "      <td>https://stage.xcube-geodb.brockmann-consult.de...</td>\n",
       "    </tr>\n",
       "    <tr>\n",
       "      <th>6</th>\n",
       "      <td>SRTM30-Contour</td>\n",
       "      <td>None</td>\n",
       "      <td>None</td>\n",
       "      <td>https://stage.xcube-geodb.brockmann-consult.de...</td>\n",
       "      <td>None</td>\n",
       "      <td>SRTM30-Contour</td>\n",
       "      <td>https://stage.xcube-geodb.brockmann-consult.de...</td>\n",
       "      <td>https://stage.xcube-geodb.brockmann-consult.de...</td>\n",
       "    </tr>\n",
       "    <tr>\n",
       "      <th>7</th>\n",
       "      <td>SRTM30-Hillshade</td>\n",
       "      <td>None</td>\n",
       "      <td>None</td>\n",
       "      <td>https://stage.xcube-geodb.brockmann-consult.de...</td>\n",
       "      <td>None</td>\n",
       "      <td>SRTM30-Hillshade</td>\n",
       "      <td>https://stage.xcube-geodb.brockmann-consult.de...</td>\n",
       "      <td>https://stage.xcube-geodb.brockmann-consult.de...</td>\n",
       "    </tr>\n",
       "    <tr>\n",
       "      <th>8</th>\n",
       "      <td>TOPO-OSM-WMS</td>\n",
       "      <td>None</td>\n",
       "      <td>None</td>\n",
       "      <td>https://stage.xcube-geodb.brockmann-consult.de...</td>\n",
       "      <td>None</td>\n",
       "      <td>TOPO-OSM-WMS</td>\n",
       "      <td>https://stage.xcube-geodb.brockmann-consult.de...</td>\n",
       "      <td>https://stage.xcube-geodb.brockmann-consult.de...</td>\n",
       "    </tr>\n",
       "    <tr>\n",
       "      <th>9</th>\n",
       "      <td>TOPO-WMS</td>\n",
       "      <td>None</td>\n",
       "      <td>None</td>\n",
       "      <td>https://stage.xcube-geodb.brockmann-consult.de...</td>\n",
       "      <td>None</td>\n",
       "      <td>TOPO-WMS</td>\n",
       "      <td>https://stage.xcube-geodb.brockmann-consult.de...</td>\n",
       "      <td>https://stage.xcube-geodb.brockmann-consult.de...</td>\n",
       "    </tr>\n",
       "  </tbody>\n",
       "</table>\n",
       "</div>"
      ],
      "text/plain": [
       "                         collection_id database default_style  \\\n",
       "0  my-urban-h_SI001L2_LJUBLJANA_UA2018     None          None   \n",
       "1  my-urban-h_SI001L2_LJUBLJANA_UA2018     None          None   \n",
       "2                      OSM-Overlay-WMS     None          None   \n",
       "3                              OSM-WMS     None          None   \n",
       "4                       SRTM30-Colored     None          None   \n",
       "5             SRTM30-Colored-Hillshade     None          None   \n",
       "6                       SRTM30-Contour     None          None   \n",
       "7                     SRTM30-Hillshade     None          None   \n",
       "8                         TOPO-OSM-WMS     None          None   \n",
       "9                             TOPO-WMS     None          None   \n",
       "\n",
       "                                         geojson_url  href  \\\n",
       "0  https://stage.xcube-geodb.brockmann-consult.de...  None   \n",
       "1  https://stage.xcube-geodb.brockmann-consult.de...  None   \n",
       "2  https://stage.xcube-geodb.brockmann-consult.de...  None   \n",
       "3  https://stage.xcube-geodb.brockmann-consult.de...  None   \n",
       "4  https://stage.xcube-geodb.brockmann-consult.de...  None   \n",
       "5  https://stage.xcube-geodb.brockmann-consult.de...  None   \n",
       "6  https://stage.xcube-geodb.brockmann-consult.de...  None   \n",
       "7  https://stage.xcube-geodb.brockmann-consult.de...  None   \n",
       "8  https://stage.xcube-geodb.brockmann-consult.de...  None   \n",
       "9  https://stage.xcube-geodb.brockmann-consult.de...  None   \n",
       "\n",
       "                                  name  \\\n",
       "0  my-urban-h_SI001L2_LJUBLJANA_UA2018   \n",
       "1  my-urban-h_SI001L2_LJUBLJANA_UA2018   \n",
       "2                      OSM-Overlay-WMS   \n",
       "3                              OSM-WMS   \n",
       "4                       SRTM30-Colored   \n",
       "5             SRTM30-Colored-Hillshade   \n",
       "6                       SRTM30-Contour   \n",
       "7                     SRTM30-Hillshade   \n",
       "8                         TOPO-OSM-WMS   \n",
       "9                             TOPO-WMS   \n",
       "\n",
       "                                         preview_url  \\\n",
       "0  https://stage.xcube-geodb.brockmann-consult.de...   \n",
       "1  https://stage.xcube-geodb.brockmann-consult.de...   \n",
       "2  https://stage.xcube-geodb.brockmann-consult.de...   \n",
       "3  https://stage.xcube-geodb.brockmann-consult.de...   \n",
       "4  https://stage.xcube-geodb.brockmann-consult.de...   \n",
       "5  https://stage.xcube-geodb.brockmann-consult.de...   \n",
       "6  https://stage.xcube-geodb.brockmann-consult.de...   \n",
       "7  https://stage.xcube-geodb.brockmann-consult.de...   \n",
       "8  https://stage.xcube-geodb.brockmann-consult.de...   \n",
       "9  https://stage.xcube-geodb.brockmann-consult.de...   \n",
       "\n",
       "                                             wfs_url  \n",
       "0  https://stage.xcube-geodb.brockmann-consult.de...  \n",
       "1  https://stage.xcube-geodb.brockmann-consult.de...  \n",
       "2  https://stage.xcube-geodb.brockmann-consult.de...  \n",
       "3  https://stage.xcube-geodb.brockmann-consult.de...  \n",
       "4  https://stage.xcube-geodb.brockmann-consult.de...  \n",
       "5  https://stage.xcube-geodb.brockmann-consult.de...  \n",
       "6  https://stage.xcube-geodb.brockmann-consult.de...  \n",
       "7  https://stage.xcube-geodb.brockmann-consult.de...  \n",
       "8  https://stage.xcube-geodb.brockmann-consult.de...  \n",
       "9  https://stage.xcube-geodb.brockmann-consult.de...  "
      ]
     },
     "execution_count": 3,
     "metadata": {},
     "output_type": "execute_result"
    }
   ],
   "source": [
    "geodb.get_all_published_gs()"
   ]
  },
  {
   "cell_type": "code",
   "execution_count": 6,
   "metadata": {},
   "outputs": [
    {
     "data": {
      "text/html": [
       "<div>\n",
       "<style scoped>\n",
       "    .dataframe tbody tr th:only-of-type {\n",
       "        vertical-align: middle;\n",
       "    }\n",
       "\n",
       "    .dataframe tbody tr th {\n",
       "        vertical-align: top;\n",
       "    }\n",
       "\n",
       "    .dataframe thead th {\n",
       "        text-align: right;\n",
       "    }\n",
       "</style>\n",
       "<table border=\"1\" class=\"dataframe\">\n",
       "  <thead>\n",
       "    <tr style=\"text-align: right;\">\n",
       "      <th></th>\n",
       "      <th>collection_id</th>\n",
       "      <th>database</th>\n",
       "      <th>default_style</th>\n",
       "      <th>geojson_url</th>\n",
       "      <th>href</th>\n",
       "      <th>name</th>\n",
       "      <th>preview_url</th>\n",
       "      <th>wfs_url</th>\n",
       "    </tr>\n",
       "  </thead>\n",
       "  <tbody>\n",
       "    <tr>\n",
       "      <th>0</th>\n",
       "      <td>SI001L2_LJUBLJANA_UA2018</td>\n",
       "      <td>my-urban-h</td>\n",
       "      <td>None</td>\n",
       "      <td>https://stage.xcube-geodb.brockmann-consult.de...</td>\n",
       "      <td>None</td>\n",
       "      <td>SI001L2_LJUBLJANA_UA2018</td>\n",
       "      <td>https://stage.xcube-geodb.brockmann-consult.de...</td>\n",
       "      <td>https://stage.xcube-geodb.brockmann-consult.de...</td>\n",
       "    </tr>\n",
       "  </tbody>\n",
       "</table>\n",
       "</div>"
      ],
      "text/plain": [
       "              collection_id    database default_style  \\\n",
       "0  SI001L2_LJUBLJANA_UA2018  my-urban-h          None   \n",
       "\n",
       "                                         geojson_url  href  \\\n",
       "0  https://stage.xcube-geodb.brockmann-consult.de...  None   \n",
       "\n",
       "                       name  \\\n",
       "0  SI001L2_LJUBLJANA_UA2018   \n",
       "\n",
       "                                         preview_url  \\\n",
       "0  https://stage.xcube-geodb.brockmann-consult.de...   \n",
       "\n",
       "                                             wfs_url  \n",
       "0  https://stage.xcube-geodb.brockmann-consult.de...  "
      ]
     },
     "execution_count": 6,
     "metadata": {},
     "output_type": "execute_result"
    }
   ],
   "source": [
    "## List Collections Published on the BC WMS Service\n",
    "\n",
    "geodb.get_published_gs(database=my_database_name)"
   ]
  },
  {
   "cell_type": "markdown",
   "metadata": {},
   "source": [
    "## Publish your Collection to the BC WMS Service"
   ]
  },
  {
   "cell_type": "code",
   "execution_count": 7,
   "metadata": {},
   "outputs": [
    {
     "data": {
      "text/plain": [
       "{'collection_id': 'SI001L2_LJUBLJANA_UA2018',\n",
       " 'database': 'my-urban-h',\n",
       " 'default_style': None,\n",
       " 'geojson_url': 'https://stage.xcube-geodb.brockmann-consult.de/geoserver/my-urban-h/ows?service=WFS&version=1.0.0&request=GetFeature&typeName=my-urban-h:my-urban-h_SI001L2_LJUBLJANA_UA2018&maxFeatures=10&outputFormat=application/json',\n",
       " 'href': None,\n",
       " 'name': 'SI001L2_LJUBLJANA_UA2018',\n",
       " 'preview_url': 'https://stage.xcube-geodb.brockmann-consult.de/geoserver/my-urban-h/wms?service=WMS&version=1.1.0&request=GetMap&layers=my-urban-h:my-urban-h_SI001L2_LJUBLJANA_UA2018&bbox=4638735,2524481.25,4704972.5,2594978.75&width=690&height=768&srs=EPSG:3035&styles=&format=application/openlayers',\n",
       " 'wfs_url': 'https://stage.xcube-geodb.brockmann-consult.de/geoserver/my-urban-h/ows?service=WFS&version=1.0.0&request=GetFeature&typeName=my-urban-h%3Amy-urban-h_SI001L2_LJUBLJANA_UA2018&maxFeatures=10&outputFormat=application%2Fvnd.google-earth.kml%2Bxml'}"
      ]
     },
     "execution_count": 7,
     "metadata": {},
     "output_type": "execute_result"
    }
   ],
   "source": [
    "geodb.publish_gs(collection='SI001L2_LJUBLJANA_UA2018', database=my_database_name)"
   ]
  },
  {
   "cell_type": "markdown",
   "metadata": {},
   "source": [
    "You can now click on the preview link which will give you an unstyled view of your WMS output."
   ]
  },
  {
   "cell_type": "code",
   "execution_count": 8,
   "metadata": {},
   "outputs": [
    {
     "data": {
      "text/html": [
       "<div>\n",
       "<style scoped>\n",
       "    .dataframe tbody tr th:only-of-type {\n",
       "        vertical-align: middle;\n",
       "    }\n",
       "\n",
       "    .dataframe tbody tr th {\n",
       "        vertical-align: top;\n",
       "    }\n",
       "\n",
       "    .dataframe thead th {\n",
       "        text-align: right;\n",
       "    }\n",
       "</style>\n",
       "<table border=\"1\" class=\"dataframe\">\n",
       "  <thead>\n",
       "    <tr style=\"text-align: right;\">\n",
       "      <th></th>\n",
       "      <th>collection_id</th>\n",
       "      <th>database</th>\n",
       "      <th>default_style</th>\n",
       "      <th>geojson_url</th>\n",
       "      <th>href</th>\n",
       "      <th>name</th>\n",
       "      <th>preview_url</th>\n",
       "      <th>wfs_url</th>\n",
       "    </tr>\n",
       "  </thead>\n",
       "  <tbody>\n",
       "    <tr>\n",
       "      <th>0</th>\n",
       "      <td>SI001L2_LJUBLJANA_UA2018</td>\n",
       "      <td>my-urban-h</td>\n",
       "      <td>None</td>\n",
       "      <td>https://stage.xcube-geodb.brockmann-consult.de...</td>\n",
       "      <td>None</td>\n",
       "      <td>SI001L2_LJUBLJANA_UA2018</td>\n",
       "      <td>https://stage.xcube-geodb.brockmann-consult.de...</td>\n",
       "      <td>https://stage.xcube-geodb.brockmann-consult.de...</td>\n",
       "    </tr>\n",
       "  </tbody>\n",
       "</table>\n",
       "</div>"
      ],
      "text/plain": [
       "              collection_id    database default_style  \\\n",
       "0  SI001L2_LJUBLJANA_UA2018  my-urban-h          None   \n",
       "\n",
       "                                         geojson_url  href  \\\n",
       "0  https://stage.xcube-geodb.brockmann-consult.de...  None   \n",
       "\n",
       "                       name  \\\n",
       "0  SI001L2_LJUBLJANA_UA2018   \n",
       "\n",
       "                                         preview_url  \\\n",
       "0  https://stage.xcube-geodb.brockmann-consult.de...   \n",
       "\n",
       "                                             wfs_url  \n",
       "0  https://stage.xcube-geodb.brockmann-consult.de...  "
      ]
     },
     "execution_count": 8,
     "metadata": {},
     "output_type": "execute_result"
    }
   ],
   "source": [
    "## List Collections Published on the BC WMS Service\n",
    "\n",
    "geodb.get_published_gs(database=my_database_name)"
   ]
  },
  {
   "cell_type": "markdown",
   "metadata": {},
   "source": [
    "### View the Data\n",
    "\n",
    "Once you have published you collection, you can use the WMS service to visualise your collection. For this using ipyleaflet. In this example we have used a pre-defined style. You can always provide a custom style using the parameter `sld`. We have provided a class that will pass that parameter to the WMS service. Just replace WMSLayer with SldWMSLayer. The `sld`parameter is given as a URL to an SLD file."
   ]
  },
  {
   "cell_type": "code",
   "execution_count": 30,
   "metadata": {},
   "outputs": [],
   "source": [
    "url = f\"http://stage.xcube-geodb.brockmann-consult.de/geoserver/{my_database_name}/wms?\"\n"
   ]
  },
  {
   "cell_type": "code",
   "execution_count": 31,
   "metadata": {},
   "outputs": [],
   "source": [
    "from ipyleaflet import Map, WMSLayer, basemaps"
   ]
  },
  {
   "cell_type": "code",
   "execution_count": 32,
   "metadata": {},
   "outputs": [],
   "source": [
    "from traitlets import Unicode\n",
    "\n",
    "class SldWMSLayer(WMSLayer):\n",
    "\n",
    "    sld = Unicode('').tag(sync=True, o=True)\n"
   ]
  },
  {
   "cell_type": "code",
   "execution_count": 33,
   "metadata": {},
   "outputs": [],
   "source": [
    "wmsn = WMSLayer(\n",
    "    url=url,\n",
    "    layers=f'{my_database_name}:{my_database_name}_SI001L2_LJUBLJANA_UA2018',\n",
    "    format='image/png',\n",
    "    opacity=0.5,\n",
    "    attribution='Copernicus',\n",
    "    styles='ljubilana'\n",
    "#     sld='https://raw.githubusercontent.com/dzelge/test-gha/main/ljubilana.sld'\n",
    ")"
   ]
  },
  {
   "cell_type": "code",
   "execution_count": 34,
   "metadata": {},
   "outputs": [
    {
     "data": {
      "application/vnd.jupyter.widget-view+json": {
       "model_id": "2709fd05cc524bbb82eeec3024ab28a8",
       "version_major": 2,
       "version_minor": 0
      },
      "text/plain": [
       "Map(center=[46.0, 14.5], controls=(ZoomControl(options=['position', 'zoom_in_text', 'zoom_in_title', 'zoom_out…"
      ]
     },
     "metadata": {},
     "output_type": "display_data"
    }
   ],
   "source": [
    "m = Map(basemap=basemaps.CartoDB.Positron, center=(46.0, 14.5), zoom=13)\n",
    "m.add_layer(wmsn)\n",
    "\n",
    "m"
   ]
  },
  {
   "cell_type": "code",
   "execution_count": 39,
   "metadata": {},
   "outputs": [
    {
     "data": {
      "text/plain": [
       "True"
      ]
     },
     "execution_count": 39,
     "metadata": {},
     "output_type": "execute_result"
    }
   ],
   "source": [
    "geodb.unpublish_gs(collection='SI001L2_LJUBLJANA_UA2018', database=my_database_name)"
   ]
  },
  {
   "cell_type": "code",
   "execution_count": null,
   "metadata": {},
   "outputs": [],
   "source": []
  }
 ],
 "metadata": {
  "kernelspec": {
   "display_name": "Python 3",
   "language": "python",
   "name": "python3"
  },
  "language_info": {
   "codemirror_mode": {
    "name": "ipython",
    "version": 3
   },
   "file_extension": ".py",
   "mimetype": "text/x-python",
   "name": "python",
   "nbconvert_exporter": "python",
   "pygments_lexer": "ipython3",
   "version": "3.9.5"
  }
 },
 "nbformat": 4,
 "nbformat_minor": 4
}
