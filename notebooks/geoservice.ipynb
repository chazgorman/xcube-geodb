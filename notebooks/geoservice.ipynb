{
 "cells": [
  {
   "cell_type": "markdown",
   "metadata": {},
   "source": [
    "## Publish your Collection using the EDC / BC Geoservice\n",
    "\n",
    "Publish you collections as WMS service. The BC geoservice provides access to publishing your collection as a WMS service using the geoDB Python client. Please refer to the [geoserver](https://docs.geoserver.org/latest/en/user/services/wms/reference.html) documentation for configuring the rest API call to your WMS/geojson service. \n",
    "\n",
    "You will have access to this service if you have purchased a large management account. This service is in beta mode. If you find any issues, please report them on our [GitHub Issues page](https://github.com/bcdev/xcube-hub/issues)."
   ]
  },
  {
   "cell_type": "markdown",
   "metadata": {},
   "source": [
    "## Init the GeoDB client"
   ]
  },
  {
   "cell_type": "code",
   "execution_count": 36,
   "metadata": {},
   "outputs": [
    {
     "data": {
      "text/plain": [
       "'geodb_112a590d-cfaf-4bad-bafc-d597f531e98b'"
      ]
     },
     "execution_count": 36,
     "metadata": {},
     "output_type": "execute_result"
    }
   ],
   "source": [
    "from xcube_geodb.core.geodb import GeoDBClient\n",
    "geodb = GeoDBClient(gs_server_url='http://localhost', gs_server_port=8080)\n",
    "geodb.whoami"
   ]
  },
  {
   "cell_type": "markdown",
   "metadata": {},
   "source": [
    "### Create a Database and Copy some Public Data Across"
   ]
  },
  {
   "cell_type": "code",
   "execution_count": 38,
   "metadata": {},
   "outputs": [],
   "source": [
    "my_database_name = 'my-urban-h'"
   ]
  },
  {
   "cell_type": "code",
   "execution_count": 28,
   "metadata": {},
   "outputs": [
    {
     "data": {
      "text/plain": [
       "<h1>Error: {\"hint\":null,\"details\":null,\"code\":\"P0001\",\"message\":\"Database my-urban-h exists already.\"}</h1>"
      ]
     },
     "execution_count": 28,
     "metadata": {},
     "output_type": "execute_result"
    }
   ],
   "source": [
    "geodb.create_database(my_database_name)"
   ]
  },
  {
   "cell_type": "code",
   "execution_count": 5,
   "metadata": {},
   "outputs": [],
   "source": [
    "# geodb.drop_collection(collection='SI001L2_LJUBLJANA_UA2018', database=my_database_name)"
   ]
  },
  {
   "cell_type": "code",
   "execution_count": 6,
   "metadata": {},
   "outputs": [
    {
     "ename": "GeoDBError",
     "evalue": "{\"hint\":null,\"details\":null,\"code\":\"42P07\",\"message\":\"relation \\\"my-urban-h_SI001L2_LJUBLJANA_UA2018\\\" already exists\"}",
     "output_type": "error",
     "traceback": [
      "\u001B[0;31m---------------------------------------------------------------------------\u001B[0m",
      "\u001B[0;31mHTTPError\u001B[0m                                 Traceback (most recent call last)",
      "\u001B[0;32m~/IdeaProjects/xcube-geodb/xcube_geodb/core/geodb.py\u001B[0m in \u001B[0;36m_post\u001B[0;34m(self, path, payload, params, headers, raise_for_status)\u001B[0m\n\u001B[1;32m    369\u001B[0m             \u001B[0;32mif\u001B[0m \u001B[0mraise_for_status\u001B[0m\u001B[0;34m:\u001B[0m\u001B[0;34m\u001B[0m\u001B[0;34m\u001B[0m\u001B[0m\n\u001B[0;32m--> 370\u001B[0;31m                 \u001B[0mr\u001B[0m\u001B[0;34m.\u001B[0m\u001B[0mraise_for_status\u001B[0m\u001B[0;34m(\u001B[0m\u001B[0;34m)\u001B[0m\u001B[0;34m\u001B[0m\u001B[0;34m\u001B[0m\u001B[0m\n\u001B[0m\u001B[1;32m    371\u001B[0m         \u001B[0;32mexcept\u001B[0m \u001B[0mrequests\u001B[0m\u001B[0;34m.\u001B[0m\u001B[0mexceptions\u001B[0m\u001B[0;34m.\u001B[0m\u001B[0mHTTPError\u001B[0m\u001B[0;34m:\u001B[0m\u001B[0;34m\u001B[0m\u001B[0;34m\u001B[0m\u001B[0m\n",
      "\u001B[0;32m~/miniconda3/envs/xcube_geodb/lib/python3.9/site-packages/requests/models.py\u001B[0m in \u001B[0;36mraise_for_status\u001B[0;34m(self)\u001B[0m\n\u001B[1;32m    943\u001B[0m         \u001B[0;32mif\u001B[0m \u001B[0mhttp_error_msg\u001B[0m\u001B[0;34m:\u001B[0m\u001B[0;34m\u001B[0m\u001B[0;34m\u001B[0m\u001B[0m\n\u001B[0;32m--> 944\u001B[0;31m             \u001B[0;32mraise\u001B[0m \u001B[0mHTTPError\u001B[0m\u001B[0;34m(\u001B[0m\u001B[0mhttp_error_msg\u001B[0m\u001B[0;34m,\u001B[0m \u001B[0mresponse\u001B[0m\u001B[0;34m=\u001B[0m\u001B[0mself\u001B[0m\u001B[0;34m)\u001B[0m\u001B[0;34m\u001B[0m\u001B[0;34m\u001B[0m\u001B[0m\n\u001B[0m\u001B[1;32m    945\u001B[0m \u001B[0;34m\u001B[0m\u001B[0m\n",
      "\u001B[0;31mHTTPError\u001B[0m: 400 Client Error: Bad Request for url: https://stage.xcube-geodb.brockmann-consult.de:443/rpc/geodb_copy_collection",
      "\nDuring handling of the above exception, another exception occurred:\n",
      "\u001B[0;31mGeoDBError\u001B[0m                                Traceback (most recent call last)",
      "\u001B[0;32m<ipython-input-6-eaed8b012c1d>\u001B[0m in \u001B[0;36m<module>\u001B[0;34m\u001B[0m\n\u001B[0;32m----> 1\u001B[0;31m \u001B[0mgeodb\u001B[0m\u001B[0;34m.\u001B[0m\u001B[0mcopy_collection\u001B[0m\u001B[0;34m(\u001B[0m\u001B[0mcollection\u001B[0m\u001B[0;34m=\u001B[0m\u001B[0;34m'SI001L2_LJUBLJANA_UA2018'\u001B[0m\u001B[0;34m,\u001B[0m \u001B[0mnew_collection\u001B[0m\u001B[0;34m=\u001B[0m\u001B[0;34m'SI001L2_LJUBLJANA_UA2018'\u001B[0m\u001B[0;34m,\u001B[0m \u001B[0mdatabase\u001B[0m\u001B[0;34m=\u001B[0m\u001B[0;34m'eea-urban-atlas'\u001B[0m\u001B[0;34m,\u001B[0m \u001B[0mnew_database\u001B[0m\u001B[0;34m=\u001B[0m\u001B[0mmy_database_name\u001B[0m\u001B[0;34m)\u001B[0m\u001B[0;34m\u001B[0m\u001B[0;34m\u001B[0m\u001B[0m\n\u001B[0m",
      "\u001B[0;32m~/IdeaProjects/xcube-geodb/xcube_geodb/core/geodb.py\u001B[0m in \u001B[0;36mcopy_collection\u001B[0;34m(self, collection, new_collection, new_database, database)\u001B[0m\n\u001B[1;32m    799\u001B[0m         \u001B[0mto_dn\u001B[0m \u001B[0;34m=\u001B[0m \u001B[0;34mf\"{new_database}_{new_collection}\"\u001B[0m\u001B[0;34m\u001B[0m\u001B[0;34m\u001B[0m\u001B[0m\n\u001B[1;32m    800\u001B[0m \u001B[0;34m\u001B[0m\u001B[0m\n\u001B[0;32m--> 801\u001B[0;31m         \u001B[0mself\u001B[0m\u001B[0;34m.\u001B[0m\u001B[0m_post\u001B[0m\u001B[0;34m(\u001B[0m\u001B[0mpath\u001B[0m\u001B[0;34m=\u001B[0m\u001B[0;34m'/rpc/geodb_copy_collection'\u001B[0m\u001B[0;34m,\u001B[0m \u001B[0mpayload\u001B[0m\u001B[0;34m=\u001B[0m\u001B[0;34m{\u001B[0m\u001B[0;34m'old_collection'\u001B[0m\u001B[0;34m:\u001B[0m \u001B[0mfrom_dn\u001B[0m\u001B[0;34m,\u001B[0m \u001B[0;34m'new_collection'\u001B[0m\u001B[0;34m:\u001B[0m \u001B[0mto_dn\u001B[0m\u001B[0;34m}\u001B[0m\u001B[0;34m)\u001B[0m\u001B[0;34m\u001B[0m\u001B[0;34m\u001B[0m\u001B[0m\n\u001B[0m\u001B[1;32m    802\u001B[0m \u001B[0;34m\u001B[0m\u001B[0m\n\u001B[1;32m    803\u001B[0m         \u001B[0;32mreturn\u001B[0m \u001B[0mMessage\u001B[0m\u001B[0;34m(\u001B[0m\u001B[0;34mf\"Collection copied from {database}/{collection} to {new_database}/{new_collection}\"\u001B[0m\u001B[0;34m)\u001B[0m\u001B[0;34m\u001B[0m\u001B[0;34m\u001B[0m\u001B[0m\n",
      "\u001B[0;32m~/IdeaProjects/xcube-geodb/xcube_geodb/core/geodb.py\u001B[0m in \u001B[0;36m_post\u001B[0;34m(self, path, payload, params, headers, raise_for_status)\u001B[0m\n\u001B[1;32m    370\u001B[0m                 \u001B[0mr\u001B[0m\u001B[0;34m.\u001B[0m\u001B[0mraise_for_status\u001B[0m\u001B[0;34m(\u001B[0m\u001B[0;34m)\u001B[0m\u001B[0;34m\u001B[0m\u001B[0;34m\u001B[0m\u001B[0m\n\u001B[1;32m    371\u001B[0m         \u001B[0;32mexcept\u001B[0m \u001B[0mrequests\u001B[0m\u001B[0;34m.\u001B[0m\u001B[0mexceptions\u001B[0m\u001B[0;34m.\u001B[0m\u001B[0mHTTPError\u001B[0m\u001B[0;34m:\u001B[0m\u001B[0;34m\u001B[0m\u001B[0;34m\u001B[0m\u001B[0m\n\u001B[0;32m--> 372\u001B[0;31m             \u001B[0;32mraise\u001B[0m \u001B[0mGeoDBError\u001B[0m\u001B[0;34m(\u001B[0m\u001B[0mr\u001B[0m\u001B[0;34m.\u001B[0m\u001B[0mtext\u001B[0m\u001B[0;34m)\u001B[0m\u001B[0;34m\u001B[0m\u001B[0;34m\u001B[0m\u001B[0m\n\u001B[0m\u001B[1;32m    373\u001B[0m \u001B[0;34m\u001B[0m\u001B[0m\n\u001B[1;32m    374\u001B[0m         \u001B[0;32mreturn\u001B[0m \u001B[0mr\u001B[0m\u001B[0;34m\u001B[0m\u001B[0;34m\u001B[0m\u001B[0m\n",
      "\u001B[0;31mGeoDBError\u001B[0m: {\"hint\":null,\"details\":null,\"code\":\"42P07\",\"message\":\"relation \\\"my-urban-h_SI001L2_LJUBLJANA_UA2018\\\" already exists\"}"
     ]
    }
   ],
   "source": [
    "geodb.copy_collection(collection='SI001L2_LJUBLJANA_UA2018', new_collection='SI001L2_LJUBLJANA_UA2018', database='eea-urban-atlas', new_database=my_database_name)"
   ]
  },
  {
   "cell_type": "code",
   "execution_count": 39,
   "metadata": {},
   "outputs": [
    {
     "data": {
      "text/html": [
       "<div>\n",
       "<style scoped>\n",
       "    .dataframe tbody tr th:only-of-type {\n",
       "        vertical-align: middle;\n",
       "    }\n",
       "\n",
       "    .dataframe tbody tr th {\n",
       "        vertical-align: top;\n",
       "    }\n",
       "\n",
       "    .dataframe thead th {\n",
       "        text-align: right;\n",
       "    }\n",
       "</style>\n",
       "<table border=\"1\" class=\"dataframe\">\n",
       "  <thead>\n",
       "    <tr style=\"text-align: right;\">\n",
       "      <th></th>\n",
       "      <th>collection_id</th>\n",
       "      <th>database</th>\n",
       "      <th>default_style</th>\n",
       "      <th>geojson_url</th>\n",
       "      <th>href</th>\n",
       "      <th>name</th>\n",
       "      <th>preview_url</th>\n",
       "      <th>wfs_url</th>\n",
       "    </tr>\n",
       "  </thead>\n",
       "  <tbody>\n",
       "    <tr>\n",
       "      <th>0</th>\n",
       "      <td>SI001L2_LJUBLJANA_UA2018</td>\n",
       "      <td>my-urban-h</td>\n",
       "      <td>None</td>\n",
       "      <td>https://stage.xcube-geodb.brockmann-consult.de...</td>\n",
       "      <td>None</td>\n",
       "      <td>SI001L2_LJUBLJANA_UA2018</td>\n",
       "      <td>https://stage.xcube-geodb.brockmann-consult.de...</td>\n",
       "      <td>https://stage.xcube-geodb.brockmann-consult.de...</td>\n",
       "    </tr>\n",
       "  </tbody>\n",
       "</table>\n",
       "</div>"
      ],
      "text/plain": [
       "              collection_id    database default_style  \\\n",
       "0  SI001L2_LJUBLJANA_UA2018  my-urban-h          None   \n",
       "\n",
       "                                         geojson_url  href  \\\n",
       "0  https://stage.xcube-geodb.brockmann-consult.de...  None   \n",
       "\n",
       "                       name  \\\n",
       "0  SI001L2_LJUBLJANA_UA2018   \n",
       "\n",
       "                                         preview_url  \\\n",
       "0  https://stage.xcube-geodb.brockmann-consult.de...   \n",
       "\n",
       "                                             wfs_url  \n",
       "0  https://stage.xcube-geodb.brockmann-consult.de...  "
      ]
     },
     "execution_count": 39,
     "metadata": {},
     "output_type": "execute_result"
    }
   ],
   "source": [
    "## List Collections Published on the BC WMS Service\n",
    "\n",
    "geodb.get_published_gs(database=my_database_name)"
   ]
  },
  {
   "cell_type": "markdown",
   "metadata": {},
   "source": [
    "## Publish your Collection to the BC WMS Service"
   ]
  },
  {
   "cell_type": "code",
   "execution_count": 43,
   "metadata": {},
   "outputs": [
    {
     "data": {
      "text/plain": [
       "{'collection_id': 'SI001L2_LJUBLJANA_UA2018',\n",
       " 'database': 'my-urban-h',\n",
       " 'default_style': None,\n",
       " 'geojson_url': 'https://stage.xcube-geodb.brockmann-consult.de/geoserver/my-urban-h/ows?service=WFS&version=1.0.0&request=GetFeature&typeName=my-urban-h:my-urban-h_SI001L2_LJUBLJANA_UA2018&maxFeatures=10&outputFormat=application/json',\n",
       " 'href': None,\n",
       " 'name': 'SI001L2_LJUBLJANA_UA2018',\n",
       " 'preview_url': 'https://stage.xcube-geodb.brockmann-consult.de/geoserver/my-urban-h/wms?service=WMS&version=1.1.0&request=GetMap&layers=my-urban-h:my-urban-h_SI001L2_LJUBLJANA_UA2018&bbox=4639063.4253,2524830.34633753,4704644.024,2594629.7028&width=690&height=768&srs=EPSG:3035&styles=&format=application/openlayers',\n",
       " 'wfs_url': 'https://stage.xcube-geodb.brockmann-consult.de/geoserver/my-urban-h/ows?service=WFS&version=1.0.0&request=GetFeature&typeName=my-urban-h%3Amy-urban-h_SI001L2_LJUBLJANA_UA2018&maxFeatures=10&outputFormat=application%2Fvnd.google-earth.kml%2Bxml'}"
      ]
     },
     "execution_count": 43,
     "metadata": {},
     "output_type": "execute_result"
    }
   ],
   "source": [
    "geodb.publish_gs(collection='SI001L2_LJUBLJANA_UA2018', database=my_database_name)"
   ]
  },
  {
   "cell_type": "markdown",
   "metadata": {},
   "source": [
    "You can now click on the preview link which will give you an unstyled view of your WMS output."
   ]
  },
  {
   "cell_type": "code",
   "execution_count": 44,
   "metadata": {},
   "outputs": [
    {
     "data": {
      "text/html": [
       "<div>\n",
       "<style scoped>\n",
       "    .dataframe tbody tr th:only-of-type {\n",
       "        vertical-align: middle;\n",
       "    }\n",
       "\n",
       "    .dataframe tbody tr th {\n",
       "        vertical-align: top;\n",
       "    }\n",
       "\n",
       "    .dataframe thead th {\n",
       "        text-align: right;\n",
       "    }\n",
       "</style>\n",
       "<table border=\"1\" class=\"dataframe\">\n",
       "  <thead>\n",
       "    <tr style=\"text-align: right;\">\n",
       "      <th></th>\n",
       "      <th>collection_id</th>\n",
       "      <th>database</th>\n",
       "      <th>default_style</th>\n",
       "      <th>geojson_url</th>\n",
       "      <th>href</th>\n",
       "      <th>name</th>\n",
       "      <th>preview_url</th>\n",
       "      <th>wfs_url</th>\n",
       "    </tr>\n",
       "  </thead>\n",
       "  <tbody>\n",
       "    <tr>\n",
       "      <th>0</th>\n",
       "      <td>SI001L2_LJUBLJANA_UA2018</td>\n",
       "      <td>my-urban-h</td>\n",
       "      <td>None</td>\n",
       "      <td>https://stage.xcube-geodb.brockmann-consult.de...</td>\n",
       "      <td>None</td>\n",
       "      <td>SI001L2_LJUBLJANA_UA2018</td>\n",
       "      <td>https://stage.xcube-geodb.brockmann-consult.de...</td>\n",
       "      <td>https://stage.xcube-geodb.brockmann-consult.de...</td>\n",
       "    </tr>\n",
       "  </tbody>\n",
       "</table>\n",
       "</div>"
      ],
      "text/plain": [
       "              collection_id    database default_style  \\\n",
       "0  SI001L2_LJUBLJANA_UA2018  my-urban-h          None   \n",
       "\n",
       "                                         geojson_url  href  \\\n",
       "0  https://stage.xcube-geodb.brockmann-consult.de...  None   \n",
       "\n",
       "                       name  \\\n",
       "0  SI001L2_LJUBLJANA_UA2018   \n",
       "\n",
       "                                         preview_url  \\\n",
       "0  https://stage.xcube-geodb.brockmann-consult.de...   \n",
       "\n",
       "                                             wfs_url  \n",
       "0  https://stage.xcube-geodb.brockmann-consult.de...  "
      ]
     },
     "execution_count": 44,
     "metadata": {},
     "output_type": "execute_result"
    }
   ],
   "source": [
    "## List Collections Published on the BC WMS Service\n",
    "\n",
    "geodb.get_published_gs(database=my_database_name)"
   ]
  },
  {
   "cell_type": "markdown",
   "metadata": {},
   "source": [
    "### View the Data\n",
    "\n",
    "Once you have published you collection, you can use the WMS service to visualise your collection. For this using ipyleaflet. In this example we have used a pre-defined style. You can always provide a custom style using the parameter `sld`. We have provided a class that will pass that parameter to the WMS service. Just replace WMSLayer with SldWMSLayer. The `sld`parameter is given as a URL to an SLD file."
   ]
  },
  {
   "cell_type": "code",
   "execution_count": 30,
   "metadata": {},
   "outputs": [],
   "source": [
    "url = f\"http://stage.xcube-geodb.brockmann-consult.de/geoserver/{my_database_name}/wms?\"\n"
   ]
  },
  {
   "cell_type": "code",
   "execution_count": 31,
   "metadata": {},
   "outputs": [],
   "source": [
    "from ipyleaflet import Map, WMSLayer, basemaps"
   ]
  },
  {
   "cell_type": "code",
   "execution_count": 32,
   "metadata": {},
   "outputs": [],
   "source": [
    "from traitlets import Unicode\n",
    "\n",
    "class SldWMSLayer(WMSLayer):\n",
    "\n",
    "    sld = Unicode('').tag(sync=True, o=True)\n"
   ]
  },
  {
   "cell_type": "code",
   "execution_count": 33,
   "metadata": {},
   "outputs": [],
   "source": [
    "wmsn = WMSLayer(\n",
    "    url=url,\n",
    "    layers=f'{my_database_name}:{my_database_name}_SI001L2_LJUBLJANA_UA2018',\n",
    "    format='image/png',\n",
    "    opacity=0.5,\n",
    "    attribution='Copernicus',\n",
    "    styles='ljubilana'\n",
    "#     sld='https://raw.githubusercontent.com/dzelge/test-gha/main/ljubilana.sld'\n",
    ")"
   ]
  },
  {
   "cell_type": "code",
   "execution_count": 34,
   "metadata": {},
   "outputs": [
    {
     "data": {
      "application/vnd.jupyter.widget-view+json": {
       "model_id": "2709fd05cc524bbb82eeec3024ab28a8",
       "version_major": 2,
       "version_minor": 0
      },
      "text/plain": [
       "Map(center=[46.0, 14.5], controls=(ZoomControl(options=['position', 'zoom_in_text', 'zoom_in_title', 'zoom_out…"
      ]
     },
     "metadata": {},
     "output_type": "display_data"
    }
   ],
   "source": [
    "m = Map(basemap=basemaps.CartoDB.Positron, center=(46.0, 14.5), zoom=13)\n",
    "m.add_layer(wmsn)\n",
    "\n",
    "m"
   ]
  },
  {
   "cell_type": "code",
   "execution_count": 39,
   "metadata": {},
   "outputs": [
    {
     "data": {
      "text/plain": [
       "True"
      ]
     },
     "execution_count": 39,
     "metadata": {},
     "output_type": "execute_result"
    }
   ],
   "source": [
    "geodb.unpublish_gs(collection='SI001L2_LJUBLJANA_UA2018', database=my_database_name)"
   ]
  },
  {
   "cell_type": "code",
   "execution_count": null,
   "metadata": {},
   "outputs": [],
   "source": []
  }
 ],
 "metadata": {
  "kernelspec": {
   "display_name": "Python 3",
   "language": "python",
   "name": "python3"
  },
  "language_info": {
   "codemirror_mode": {
    "name": "ipython",
    "version": 3
   },
   "file_extension": ".py",
   "mimetype": "text/x-python",
   "name": "python",
   "nbconvert_exporter": "python",
   "pygments_lexer": "ipython3",
   "version": "3.9.5"
  }
 },
 "nbformat": 4,
 "nbformat_minor": 4
}