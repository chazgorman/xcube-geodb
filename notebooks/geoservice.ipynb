{
 "cells": [
  {
   "cell_type": "markdown",
   "metadata": {},
   "source": [
    "## Publish your Collection using the EDC / BC Geoservice\n",
    "\n",
    "The BC geoservice provides access to publishing your collection as a WMS service. It also allows accessing your data as geojson. In the latter, please use paging \n",
    "if your data is big. Please refer to the [geoserver](https://docs.geoserver.org/latest/en/user/services/wms/reference.html) documentation for configuring the rest API call to your WMS/geojson service. \n",
    "\n",
    "Please be aware that you need to have specific access rights to use this service. You can gain the rights by registering to teh xcube geoserv service on the eurodatacube service platform.\n",
    "\n",
    "This service is in beta mode. If you find any issues, please report them on our [GitHub Issues page](https://github.com/bcdev/xcube-hub/issues)."
   ]
  },
  {
   "cell_type": "markdown",
   "metadata": {},
   "source": [
    "## Init the GeoDB client"
   ]
  },
  {
   "cell_type": "code",
   "execution_count": 9,
   "metadata": {},
   "outputs": [
    {
     "data": {
      "text/plain": [
       "'geodb_965a53df-6c09-4de2-b9ec-1052a2a9534a'"
      ]
     },
     "execution_count": 9,
     "metadata": {},
     "output_type": "execute_result"
    }
   ],
   "source": [
    "from xcube_geodb.core.geodb import GeoDBClient\n",
    "geodb = GeoDBClient()\n",
    "geodb.whoami"
   ]
  },
  {
   "cell_type": "markdown",
   "metadata": {},
   "source": [
    "## Publish your collection\n",
    "\n",
    "The example below uses a public collection for you to test. This WMS service will not persist as it is a demo collection."
   ]
  },
  {
   "cell_type": "code",
   "execution_count": 13,
   "metadata": {},
   "outputs": [
    {
     "data": {
      "text/plain": [
       "{'collection_id': 'land_use',\n",
       " 'database': 'geodb_admin',\n",
       " 'default_style': None,\n",
       " 'geojson_url': 'https://stage.xcube-geodb.brockmann-consult.de/geoserver/geodb_admin/ows?service=WFS&version=1.0.0&request=GetFeature&typeName=geodb_admin:geodb_admin_land_use&maxFeatures=10&outputFormat=application/json',\n",
       " 'href': None,\n",
       " 'name': 'land_use',\n",
       " 'preview_url': 'https://stage.xcube-geodb.brockmann-consult.de/geoserver/geodb_admin/wms?service=WMS&version=1.1.0&request=GetMap&layers=geodb_admin:geodb_admin_land_use&bbox=453623.75,90596.375,463694.9375,100382.1171875&width=690&height=768&srs=EPSG:3794&styles=&format=application/openlayers'}"
      ]
     },
     "execution_count": 13,
     "metadata": {},
     "output_type": "execute_result"
    }
   ],
   "source": [
    "geodb.publish_gs(collection='land_use', database='geodb_admin')"
   ]
  },
  {
   "cell_type": "code",
   "execution_count": 14,
   "metadata": {},
   "outputs": [
    {
     "data": {
      "text/plain": [
       "True"
      ]
     },
     "execution_count": 14,
     "metadata": {},
     "output_type": "execute_result"
    }
   ],
   "source": [
    "geodb.unpublish_gs(collection='land_use', database='geodb_admin')"
   ]
  },
  {
   "cell_type": "code",
   "execution_count": null,
   "metadata": {},
   "outputs": [],
   "source": []
  }
 ],
 "metadata": {
  "kernelspec": {
   "display_name": "Python 3",
   "language": "python",
   "name": "python3"
  },
  "language_info": {
   "codemirror_mode": {
    "name": "ipython",
    "version": 3
   },
   "file_extension": ".py",
   "mimetype": "text/x-python",
   "name": "python",
   "nbconvert_exporter": "python",
   "pygments_lexer": "ipython3",
   "version": "3.8.2"
  }
 },
 "nbformat": 4,
 "nbformat_minor": 4
}
