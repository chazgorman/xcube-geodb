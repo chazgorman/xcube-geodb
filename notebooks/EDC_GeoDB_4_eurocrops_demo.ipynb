{
 "cells": [
  {
   "cell_type": "code",
   "execution_count": 11,
   "metadata": {
    "pycharm": {
     "name": "#%%\n"
    }
   },
   "outputs": [],
   "source": [
    "### uncomment and fill in if not on EDC\n",
    "\n",
    "#from xcube_geodb.core.geodb import GeoDBClient\n",
    "#client_id='<client_id>'\n",
    "#client_secret='<client_secret>'\n",
    "#server_url='https://xcube-geodb.brockmann-consult.de'\n",
    "#auth_domain='https://xcube-users.brockmann-consult.de/api/v2'\n",
    "#geodb = GeoDBClient(client_id=client_id, client_secret=client_secret, server_url=server_url, auth_aud=auth_domain, auth_mode=\"client-credentials\")"
   ]
  },
  {
   "cell_type": "markdown",
   "metadata": {
    "pycharm": {
     "name": "#%% md\n"
    }
   },
   "source": [
    "# Demonstration of Eurocrops data use in geoDB\n",
    "\n",
    "This notebook demonstrates how the [Eurocrops](https://github.com/maja601/EuroCrops) data can be used for analysis, using the geoDB."
   ]
  },
  {
   "cell_type": "code",
   "execution_count": 12,
   "metadata": {
    "pycharm": {
     "name": "#%%\n"
    }
   },
   "outputs": [],
   "source": [
    "from xcube_geodb.core.geodb import GeoDBClient\n",
    "import time\n",
    "\n",
    "### comment if not on EDC\n",
    "geodb = GeoDBClient()\n",
    "\n",
    "# Setting the database name; this database contains the EuroCrops data collections\n",
    "db = 'geodb_b34bfae7-9265-4a3e-b921-06549d3c6035'"
   ]
  },
  {
   "cell_type": "markdown",
   "metadata": {
    "pycharm": {
     "name": "#%% md\n"
    }
   },
   "source": [
    "### Demo #1\n",
    "This step computes the area growing wheat in NRW (Germany), and measures the time needed to do that. Within the collection 'DE_NRW_2021_EC21', the crop types are identified by different codes stored in the column 'code'; the values 112 and 115 identify wheat, therefore the respective query is `'or=(code.eq.112,code.eq.115)'`. The sizes of the fields are stored in the column `'area_ha'`."
   ]
  },
  {
   "cell_type": "code",
   "execution_count": 13,
   "metadata": {
    "pycharm": {
     "name": "#%%\n"
    }
   },
   "outputs": [
    {
     "ename": "GeoDBError",
     "evalue": "b'{\"hint\":null,\"details\":null,\"code\":\"42P01\",\"message\":\"relation \\\\\"public.geodb_b34bfae7-9265-4a3e-b921-06549d3c6035_DE_NRW_2021_EC21\\\\\" does not exist\"}'",
     "output_type": "error",
     "traceback": [
      "\u001B[1;31m---------------------------------------------------------------------------\u001B[0m",
      "\u001B[1;31mHTTPError\u001B[0m                                 Traceback (most recent call last)",
      "File \u001B[1;32mD:\\projects2\\xcube-geodb\\xcube_geodb\\core\\geodb.py:478\u001B[0m, in \u001B[0;36mGeoDBClient._get\u001B[1;34m(self, path, params, headers)\u001B[0m\n\u001B[0;32m    477\u001B[0m     r \u001B[38;5;241m=\u001B[39m requests\u001B[38;5;241m.\u001B[39mget(\u001B[38;5;28mself\u001B[39m\u001B[38;5;241m.\u001B[39m_get_full_url(path\u001B[38;5;241m=\u001B[39mpath), params\u001B[38;5;241m=\u001B[39mparams, headers\u001B[38;5;241m=\u001B[39mheaders)\n\u001B[1;32m--> 478\u001B[0m     \u001B[43mr\u001B[49m\u001B[38;5;241;43m.\u001B[39;49m\u001B[43mraise_for_status\u001B[49m\u001B[43m(\u001B[49m\u001B[43m)\u001B[49m\n\u001B[0;32m    479\u001B[0m \u001B[38;5;28;01mexcept\u001B[39;00m requests\u001B[38;5;241m.\u001B[39mexceptions\u001B[38;5;241m.\u001B[39mHTTPError \u001B[38;5;28;01mas\u001B[39;00m e:\n",
      "File \u001B[1;32mC:\\dev\\tools\\miniconda3\\envs\\xcube_geodb\\lib\\site-packages\\requests\\models.py:1022\u001B[0m, in \u001B[0;36mResponse.raise_for_status\u001B[1;34m(self)\u001B[0m\n\u001B[0;32m   1021\u001B[0m \u001B[38;5;28;01mif\u001B[39;00m http_error_msg:\n\u001B[1;32m-> 1022\u001B[0m     \u001B[38;5;28;01mraise\u001B[39;00m HTTPError(http_error_msg, response\u001B[38;5;241m=\u001B[39m\u001B[38;5;28mself\u001B[39m)\n",
      "\u001B[1;31mHTTPError\u001B[0m: 404 Client Error: Not Found for url: https://xcube-geodb.stage.brockmann-consult.de:443/geodb_b34bfae7-9265-4a3e-b921-06549d3c6035_DE_NRW_2021_EC21?or=(code.eq.112,code.eq.115)",
      "\nDuring handling of the above exception, another exception occurred:\n",
      "\u001B[1;31mGeoDBError\u001B[0m                                Traceback (most recent call last)",
      "Input \u001B[1;32mIn [13]\u001B[0m, in \u001B[0;36m<cell line: 2>\u001B[1;34m()\u001B[0m\n\u001B[0;32m      1\u001B[0m tic \u001B[38;5;241m=\u001B[39m time\u001B[38;5;241m.\u001B[39mperf_counter()\n\u001B[1;32m----> 2\u001B[0m df \u001B[38;5;241m=\u001B[39m \u001B[43mgeodb\u001B[49m\u001B[38;5;241;43m.\u001B[39;49m\u001B[43mget_collection\u001B[49m\u001B[43m(\u001B[49m\u001B[38;5;124;43m'\u001B[39;49m\u001B[38;5;124;43mDE_NRW_2021_EC21\u001B[39;49m\u001B[38;5;124;43m'\u001B[39;49m\u001B[43m,\u001B[49m\u001B[43m \u001B[49m\u001B[43mquery\u001B[49m\u001B[38;5;241;43m=\u001B[39;49m\u001B[38;5;124;43m'\u001B[39;49m\u001B[38;5;124;43mor=(code.eq.112,code.eq.115)\u001B[39;49m\u001B[38;5;124;43m'\u001B[39;49m\u001B[43m,\u001B[49m\u001B[43m \u001B[49m\u001B[43mdatabase\u001B[49m\u001B[38;5;241;43m=\u001B[39;49m\u001B[43mdb\u001B[49m\u001B[43m)\u001B[49m\n\u001B[0;32m      3\u001B[0m area_acc \u001B[38;5;241m=\u001B[39m df[\u001B[38;5;124m'\u001B[39m\u001B[38;5;124marea_ha\u001B[39m\u001B[38;5;124m'\u001B[39m]\u001B[38;5;241m.\u001B[39msum()\n\u001B[0;32m      4\u001B[0m toc \u001B[38;5;241m=\u001B[39m time\u001B[38;5;241m.\u001B[39mperf_counter()\n",
      "File \u001B[1;32mD:\\projects2\\xcube-geodb\\xcube_geodb\\core\\geodb.py:1714\u001B[0m, in \u001B[0;36mGeoDBClient.get_collection\u001B[1;34m(self, collection, query, database, limit, offset)\u001B[0m\n\u001B[0;32m   1712\u001B[0m         \u001B[38;5;28;01mreturn\u001B[39;00m DataFrame(columns\u001B[38;5;241m=\u001B[39m[\u001B[38;5;124m\"\u001B[39m\u001B[38;5;124mEmpty Result\u001B[39m\u001B[38;5;124m\"\u001B[39m])\n\u001B[0;32m   1713\u001B[0m \u001B[38;5;28;01mexcept\u001B[39;00m GeoDBError \u001B[38;5;28;01mas\u001B[39;00m e:\n\u001B[1;32m-> 1714\u001B[0m     \u001B[38;5;28;01mreturn\u001B[39;00m \u001B[38;5;28;43mself\u001B[39;49m\u001B[38;5;241;43m.\u001B[39;49m\u001B[43m_maybe_raise\u001B[49m\u001B[43m(\u001B[49m\u001B[43me\u001B[49m\u001B[43m,\u001B[49m\u001B[43m \u001B[49m\u001B[43mreturn_df\u001B[49m\u001B[38;5;241;43m=\u001B[39;49m\u001B[38;5;28;43;01mTrue\u001B[39;49;00m\u001B[43m)\u001B[49m\n",
      "File \u001B[1;32mD:\\projects2\\xcube-geodb\\xcube_geodb\\core\\geodb.py:575\u001B[0m, in \u001B[0;36mGeoDBClient._maybe_raise\u001B[1;34m(self, e, return_df)\u001B[0m\n\u001B[0;32m    573\u001B[0m \u001B[38;5;28;01mdef\u001B[39;00m \u001B[38;5;21m_maybe_raise\u001B[39m(\u001B[38;5;28mself\u001B[39m, e, return_df\u001B[38;5;241m=\u001B[39m\u001B[38;5;28;01mFalse\u001B[39;00m):\n\u001B[0;32m    574\u001B[0m     \u001B[38;5;28;01mif\u001B[39;00m \u001B[38;5;28mself\u001B[39m\u001B[38;5;241m.\u001B[39m_raise_it:\n\u001B[1;32m--> 575\u001B[0m         \u001B[38;5;28;01mraise\u001B[39;00m e\n\u001B[0;32m    576\u001B[0m     \u001B[38;5;28;01melse\u001B[39;00m:\n\u001B[0;32m    577\u001B[0m         \u001B[38;5;28;01mif\u001B[39;00m return_df:\n",
      "File \u001B[1;32mD:\\projects2\\xcube-geodb\\xcube_geodb\\core\\geodb.py:1703\u001B[0m, in \u001B[0;36mGeoDBClient.get_collection\u001B[1;34m(self, collection, query, database, limit, offset)\u001B[0m\n\u001B[0;32m   1700\u001B[0m     actual_query \u001B[38;5;241m=\u001B[39m \u001B[38;5;124mf\u001B[39m\u001B[38;5;124m'\u001B[39m\u001B[38;5;132;01m{\u001B[39;00mactual_query\u001B[38;5;132;01m}\u001B[39;00m\u001B[38;5;124mlimit=\u001B[39m\u001B[38;5;132;01m{\u001B[39;00mlimit\u001B[38;5;132;01m}\u001B[39;00m\u001B[38;5;124m&offset=\u001B[39m\u001B[38;5;132;01m{\u001B[39;00moffset\u001B[38;5;132;01m}\u001B[39;00m\u001B[38;5;124m'\u001B[39m\n\u001B[0;32m   1702\u001B[0m \u001B[38;5;28;01mif\u001B[39;00m actual_query:\n\u001B[1;32m-> 1703\u001B[0m     r \u001B[38;5;241m=\u001B[39m \u001B[38;5;28;43mself\u001B[39;49m\u001B[38;5;241;43m.\u001B[39;49m\u001B[43m_get\u001B[49m\u001B[43m(\u001B[49m\u001B[38;5;124;43mf\u001B[39;49m\u001B[38;5;124;43m\"\u001B[39;49m\u001B[38;5;124;43m/\u001B[39;49m\u001B[38;5;132;43;01m{\u001B[39;49;00m\u001B[43mdn\u001B[49m\u001B[38;5;132;43;01m}\u001B[39;49;00m\u001B[38;5;124;43m?\u001B[39;49m\u001B[38;5;132;43;01m{\u001B[39;49;00m\u001B[43mactual_query\u001B[49m\u001B[38;5;132;43;01m}\u001B[39;49;00m\u001B[38;5;124;43m\"\u001B[39;49m\u001B[43m)\u001B[49m\n\u001B[0;32m   1704\u001B[0m \u001B[38;5;28;01melse\u001B[39;00m:\n\u001B[0;32m   1705\u001B[0m     r \u001B[38;5;241m=\u001B[39m \u001B[38;5;28mself\u001B[39m\u001B[38;5;241m.\u001B[39m_get(\u001B[38;5;124mf\u001B[39m\u001B[38;5;124m\"\u001B[39m\u001B[38;5;124m/\u001B[39m\u001B[38;5;132;01m{\u001B[39;00mdn\u001B[38;5;132;01m}\u001B[39;00m\u001B[38;5;124m\"\u001B[39m)\n",
      "File \u001B[1;32mD:\\projects2\\xcube-geodb\\xcube_geodb\\core\\geodb.py:480\u001B[0m, in \u001B[0;36mGeoDBClient._get\u001B[1;34m(self, path, params, headers)\u001B[0m\n\u001B[0;32m    478\u001B[0m     r\u001B[38;5;241m.\u001B[39mraise_for_status()\n\u001B[0;32m    479\u001B[0m \u001B[38;5;28;01mexcept\u001B[39;00m requests\u001B[38;5;241m.\u001B[39mexceptions\u001B[38;5;241m.\u001B[39mHTTPError \u001B[38;5;28;01mas\u001B[39;00m e:\n\u001B[1;32m--> 480\u001B[0m     \u001B[38;5;28;01mraise\u001B[39;00m GeoDBError(r\u001B[38;5;241m.\u001B[39mcontent)\n\u001B[0;32m    482\u001B[0m \u001B[38;5;28;01mreturn\u001B[39;00m r\n",
      "\u001B[1;31mGeoDBError\u001B[0m: b'{\"hint\":null,\"details\":null,\"code\":\"42P01\",\"message\":\"relation \\\\\"public.geodb_b34bfae7-9265-4a3e-b921-06549d3c6035_DE_NRW_2021_EC21\\\\\" does not exist\"}'"
     ]
    }
   ],
   "source": [
    "if geodb.collection_exists('DE_NRW_2021_EC21', database=db):\n",
    "  tic = time.perf_counter()\n",
    "  df = geodb.get_collection('DE_NRW_2021_EC21', query='or=(code.eq.112,code.eq.115)', database=db)\n",
    "  area_acc = df['area_ha'].sum()\n",
    "  toc = time.perf_counter()\n",
    "  print(f\"Computed the area growing wheat in NRW (Germany): {area_acc:0.0f} ha, within {toc - tic} seconds\")"
   ]
  },
  {
   "cell_type": "markdown",
   "metadata": {
    "pycharm": {
     "name": "#%% md\n"
    }
   },
   "source": [
    "### Demo #2\n",
    "This step computes the area growing wheat in Belgium, and measures the time needed to do that. Within the collection 'BE_VLG_2021_EC21', the crop types are identified by different codes stored in the column 'gwscod_h'; the values 311 and 312 identify wheat, therefore the respective query is `'or=(gwscod_h.eq.311,gwscod_h.eq.312)'`. The sizes of the fields are stored in the column `'graf_opp'`"
   ]
  },
  {
   "cell_type": "code",
   "execution_count": null,
   "metadata": {
    "pycharm": {
     "name": "#%%\n"
    }
   },
   "outputs": [],
   "source": [
    "if geodb.collection_exists('BE_VLG_2021_EC21', database=db):\n",
    "  tic = time.perf_counter()\n",
    "  df = geodb.get_collection('BE_VLG_2021_EC21', query='or=(gwscod_h.eq.311,gwscod_h.eq.312)', database=db)\n",
    "  area_acc = df['graf_opp'].sum()\n",
    "  toc = time.perf_counter()\n",
    "  print(f\"Computed the area growing wheat in Belgium (VLG): {area_acc:0.0f} ha, within {toc - tic} seconds\")"
   ]
  },
  {
   "cell_type": "markdown",
   "metadata": {
    "pycharm": {
     "name": "#%% md\n"
    }
   },
   "source": [
    "### Demo #3\n",
    "This step extracts 1000 fields growing wheat in Austria. Within the collection 'AT_2021_EC21', the crop types are identified by different codes stored in the column 'snar_code'; the values 140, 168 and 170 identify wheat, and the column `'sl_flaeche'` stores the sizes of the fields."
   ]
  },
  {
   "cell_type": "code",
   "execution_count": null,
   "metadata": {
    "pycharm": {
     "name": "#%%\n"
    }
   },
   "outputs": [],
   "source": [
    "if geodb.collection_exists('AT_2021_EC21', database=db):\n",
    "  tic = time.perf_counter()\n",
    "  df = geodb.get_collection('AT_2021_EC21', query='and=(or(snar_code.eq.140,snar_code.eq.168,snar_code.eq.170),sl_flaeche.gt.1)', database=db, limit=1000)\n",
    "  toc = time.perf_counter()\n",
    "  print(f\"Extracted 1000 areas in Austria growing wheat, larger than 1 ha, within {toc - tic} seconds\")"
   ]
  }
 ],
 "metadata": {
  "kernelspec": {
   "display_name": "Python 3 (ipykernel)",
   "language": "python",
   "name": "python3"
  },
  "language_info": {
   "codemirror_mode": {
    "name": "ipython",
    "version": 3
   },
   "file_extension": ".py",
   "mimetype": "text/x-python",
   "name": "python",
   "nbconvert_exporter": "python",
   "pygments_lexer": "ipython3",
   "version": "3.10.5"
  }
 },
 "nbformat": 4,
 "nbformat_minor": 1
}