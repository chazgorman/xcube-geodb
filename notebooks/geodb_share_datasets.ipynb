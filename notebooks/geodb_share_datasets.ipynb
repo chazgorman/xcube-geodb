{
 "cells": [
  {
   "cell_type": "markdown",
   "metadata": {},
   "source": [
    "## Publishing Data"
   ]
  },
  {
   "cell_type": "code",
   "execution_count": 1,
   "metadata": {},
   "outputs": [],
   "source": [
    "from dcfs_geodb.core.geodb import GeoDBClient"
   ]
  },
  {
   "cell_type": "code",
   "execution_count": 2,
   "metadata": {},
   "outputs": [
    {
     "data": {
      "text/plain": [
       "'geodb_admin'"
      ]
     },
     "execution_count": 2,
     "metadata": {},
     "output_type": "execute_result"
    }
   ],
   "source": [
    "geodb = GeoDBClient()\n",
    "geodb.whoami"
   ]
  },
  {
   "cell_type": "markdown",
   "metadata": {},
   "source": [
    "### Publish Dataset to the world"
   ]
  },
  {
   "cell_type": "code",
   "execution_count": 70,
   "metadata": {},
   "outputs": [
    {
     "name": "stderr",
     "output_type": "stream",
     "text": [
      "INFO:geodb.core:Access granted on land_use to public\n"
     ]
    },
    {
     "data": {
      "text/plain": [
       "True"
      ]
     },
     "execution_count": 70,
     "metadata": {},
     "output_type": "execute_result"
    }
   ],
   "source": [
    "geodb.grant_access_to_collection(\"land_use\", 'public')"
   ]
  },
  {
   "cell_type": "code",
   "execution_count": 66,
   "metadata": {},
   "outputs": [
    {
     "data": {
      "text/html": [
       "<div>\n",
       "<style scoped>\n",
       "    .dataframe tbody tr th:only-of-type {\n",
       "        vertical-align: middle;\n",
       "    }\n",
       "\n",
       "    .dataframe tbody tr th {\n",
       "        vertical-align: top;\n",
       "    }\n",
       "\n",
       "    .dataframe thead th {\n",
       "        text-align: right;\n",
       "    }\n",
       "</style>\n",
       "<table border=\"1\" class=\"dataframe\">\n",
       "  <thead>\n",
       "    <tr style=\"text-align: right;\">\n",
       "      <th></th>\n",
       "      <th>id</th>\n",
       "      <th>created_at</th>\n",
       "      <th>modified_at</th>\n",
       "      <th>geometry</th>\n",
       "      <th>raba_pid</th>\n",
       "      <th>raba_id</th>\n",
       "      <th>d_od</th>\n",
       "    </tr>\n",
       "  </thead>\n",
       "  <tbody>\n",
       "    <tr>\n",
       "      <th>0</th>\n",
       "      <td>1</td>\n",
       "      <td>2020-01-24T10:06:15.581907+00:00</td>\n",
       "      <td>None</td>\n",
       "      <td>POLYGON ((453952.629 91124.177, 453952.696 911...</td>\n",
       "      <td>4770326</td>\n",
       "      <td>1410</td>\n",
       "      <td>2019-03-26</td>\n",
       "    </tr>\n",
       "    <tr>\n",
       "      <th>1</th>\n",
       "      <td>2</td>\n",
       "      <td>2020-01-24T10:06:15.581907+00:00</td>\n",
       "      <td>2020-01-24T10:07:48.07096+00:00</td>\n",
       "      <td>POLYGON ((453810.376 91150.199, 453812.552 911...</td>\n",
       "      <td>4770325</td>\n",
       "      <td>1300</td>\n",
       "      <td>2000-01-01</td>\n",
       "    </tr>\n",
       "    <tr>\n",
       "      <th>2</th>\n",
       "      <td>4</td>\n",
       "      <td>2020-01-24T10:06:15.581907+00:00</td>\n",
       "      <td>None</td>\n",
       "      <td>POLYGON ((455929.405 97963.785, 455933.284 979...</td>\n",
       "      <td>2305596</td>\n",
       "      <td>1100</td>\n",
       "      <td>2019-02-25</td>\n",
       "    </tr>\n",
       "    <tr>\n",
       "      <th>3</th>\n",
       "      <td>5</td>\n",
       "      <td>2020-01-24T10:06:15.581907+00:00</td>\n",
       "      <td>None</td>\n",
       "      <td>POLYGON ((461561.512 96119.256, 461632.114 960...</td>\n",
       "      <td>2310160</td>\n",
       "      <td>1100</td>\n",
       "      <td>2019-03-11</td>\n",
       "    </tr>\n",
       "    <tr>\n",
       "      <th>4</th>\n",
       "      <td>6</td>\n",
       "      <td>2020-01-24T10:06:15.581907+00:00</td>\n",
       "      <td>None</td>\n",
       "      <td>POLYGON ((458139.092 95583.227, 458136.249 955...</td>\n",
       "      <td>3602865</td>\n",
       "      <td>1500</td>\n",
       "      <td>2019-01-05</td>\n",
       "    </tr>\n",
       "    <tr>\n",
       "      <th>...</th>\n",
       "      <td>...</td>\n",
       "      <td>...</td>\n",
       "      <td>...</td>\n",
       "      <td>...</td>\n",
       "      <td>...</td>\n",
       "      <td>...</td>\n",
       "      <td>...</td>\n",
       "    </tr>\n",
       "    <tr>\n",
       "      <th>9438</th>\n",
       "      <td>9823</td>\n",
       "      <td>2020-01-24T10:06:15.581907+00:00</td>\n",
       "      <td>None</td>\n",
       "      <td>POLYGON ((460637.334 96865.891, 460647.927 969...</td>\n",
       "      <td>6253989</td>\n",
       "      <td>1600</td>\n",
       "      <td>2019-03-08</td>\n",
       "    </tr>\n",
       "    <tr>\n",
       "      <th>9439</th>\n",
       "      <td>9824</td>\n",
       "      <td>2020-01-24T10:06:15.581907+00:00</td>\n",
       "      <td>None</td>\n",
       "      <td>POLYGON ((459467.868 96839.686, 459467.770 968...</td>\n",
       "      <td>6252044</td>\n",
       "      <td>1600</td>\n",
       "      <td>2019-03-26</td>\n",
       "    </tr>\n",
       "    <tr>\n",
       "      <th>9440</th>\n",
       "      <td>9825</td>\n",
       "      <td>2020-01-24T10:06:15.581907+00:00</td>\n",
       "      <td>None</td>\n",
       "      <td>POLYGON ((459488.998 94066.248, 459498.145 940...</td>\n",
       "      <td>6245985</td>\n",
       "      <td>2000</td>\n",
       "      <td>2019-04-08</td>\n",
       "    </tr>\n",
       "    <tr>\n",
       "      <th>9441</th>\n",
       "      <td>9826</td>\n",
       "      <td>2020-01-24T10:06:15.581907+00:00</td>\n",
       "      <td>None</td>\n",
       "      <td>POLYGON ((459676.680 94000.000, 459672.469 939...</td>\n",
       "      <td>6245986</td>\n",
       "      <td>2000</td>\n",
       "      <td>2019-02-20</td>\n",
       "    </tr>\n",
       "    <tr>\n",
       "      <th>9442</th>\n",
       "      <td>9827</td>\n",
       "      <td>2020-01-24T10:06:15.581907+00:00</td>\n",
       "      <td>None</td>\n",
       "      <td>POLYGON ((459690.580 94042.607, 459686.872 940...</td>\n",
       "      <td>6245987</td>\n",
       "      <td>2000</td>\n",
       "      <td>2019-03-11</td>\n",
       "    </tr>\n",
       "  </tbody>\n",
       "</table>\n",
       "<p>9443 rows × 7 columns</p>\n",
       "</div>"
      ],
      "text/plain": [
       "        id                        created_at                      modified_at  \\\n",
       "0        1  2020-01-24T10:06:15.581907+00:00                             None   \n",
       "1        2  2020-01-24T10:06:15.581907+00:00  2020-01-24T10:07:48.07096+00:00   \n",
       "2        4  2020-01-24T10:06:15.581907+00:00                             None   \n",
       "3        5  2020-01-24T10:06:15.581907+00:00                             None   \n",
       "4        6  2020-01-24T10:06:15.581907+00:00                             None   \n",
       "...    ...                               ...                              ...   \n",
       "9438  9823  2020-01-24T10:06:15.581907+00:00                             None   \n",
       "9439  9824  2020-01-24T10:06:15.581907+00:00                             None   \n",
       "9440  9825  2020-01-24T10:06:15.581907+00:00                             None   \n",
       "9441  9826  2020-01-24T10:06:15.581907+00:00                             None   \n",
       "9442  9827  2020-01-24T10:06:15.581907+00:00                             None   \n",
       "\n",
       "                                               geometry  raba_pid  raba_id  \\\n",
       "0     POLYGON ((453952.629 91124.177, 453952.696 911...   4770326     1410   \n",
       "1     POLYGON ((453810.376 91150.199, 453812.552 911...   4770325     1300   \n",
       "2     POLYGON ((455929.405 97963.785, 455933.284 979...   2305596     1100   \n",
       "3     POLYGON ((461561.512 96119.256, 461632.114 960...   2310160     1100   \n",
       "4     POLYGON ((458139.092 95583.227, 458136.249 955...   3602865     1500   \n",
       "...                                                 ...       ...      ...   \n",
       "9438  POLYGON ((460637.334 96865.891, 460647.927 969...   6253989     1600   \n",
       "9439  POLYGON ((459467.868 96839.686, 459467.770 968...   6252044     1600   \n",
       "9440  POLYGON ((459488.998 94066.248, 459498.145 940...   6245985     2000   \n",
       "9441  POLYGON ((459676.680 94000.000, 459672.469 939...   6245986     2000   \n",
       "9442  POLYGON ((459690.580 94042.607, 459686.872 940...   6245987     2000   \n",
       "\n",
       "            d_od  \n",
       "0     2019-03-26  \n",
       "1     2000-01-01  \n",
       "2     2019-02-25  \n",
       "3     2019-03-11  \n",
       "4     2019-01-05  \n",
       "...          ...  \n",
       "9438  2019-03-08  \n",
       "9439  2019-03-26  \n",
       "9440  2019-04-08  \n",
       "9441  2019-02-20  \n",
       "9442  2019-03-11  \n",
       "\n",
       "[9443 rows x 7 columns]"
      ]
     },
     "execution_count": 66,
     "metadata": {},
     "output_type": "execute_result"
    }
   ],
   "source": [
    "gdf = geodb.filter_collection_by_bbox(collection=\"land_use\", minx=452750.0, miny=88909.549, maxx=464000.0, maxy=102486.299, namespace='geodb_admin', bbox_crs=3794)\n",
    "gdf"
   ]
  },
  {
   "cell_type": "markdown",
   "metadata": {},
   "source": [
    "## Revoke access"
   ]
  },
  {
   "cell_type": "code",
   "execution_count": 67,
   "metadata": {},
   "outputs": [
    {
     "data": {
      "text/plain": [
       "'geodb_admin'"
      ]
     },
     "execution_count": 67,
     "metadata": {},
     "output_type": "execute_result"
    }
   ],
   "source": [
    "geodb = GeoDBClient()\n",
    "geodb.whoami"
   ]
  },
  {
   "cell_type": "code",
   "execution_count": 68,
   "metadata": {},
   "outputs": [
    {
     "data": {
      "text/plain": [
       "[{'table_name': 'geodb_admin_land_use', 'grantee': 'PUBLIC'}]"
      ]
     },
     "execution_count": 68,
     "metadata": {},
     "output_type": "execute_result"
    }
   ],
   "source": [
    "geodb.list_grants()"
   ]
  },
  {
   "cell_type": "code",
   "execution_count": 69,
   "metadata": {},
   "outputs": [
    {
     "name": "stderr",
     "output_type": "stream",
     "text": [
      "INFO:geodb.core:Access revoked from land_use of public\n"
     ]
    },
    {
     "data": {
      "text/plain": [
       "True"
      ]
     },
     "execution_count": 69,
     "metadata": {},
     "output_type": "execute_result"
    }
   ],
   "source": [
    "geodb.revoke_access_to_collection(\"land_use\")"
   ]
  },
  {
   "cell_type": "code",
   "execution_count": 42,
   "metadata": {},
   "outputs": [
    {
     "data": {
      "text/plain": [
       "'helge'"
      ]
     },
     "execution_count": 42,
     "metadata": {},
     "output_type": "execute_result"
    }
   ],
   "source": [
    "geodb = GeoDBClient(access_token=a.access_token)\n",
    "geodb.whoami"
   ]
  },
  {
   "cell_type": "code",
   "execution_count": 72,
   "metadata": {},
   "outputs": [
    {
     "ename": "ValueError",
     "evalue": "Dataset geodb_admin_land_use does not exist",
     "output_type": "error",
     "traceback": [
      "\u001b[1;31m---------------------------------------------------------------------------\u001b[0m",
      "\u001b[1;31mValueError\u001b[0m                                Traceback (most recent call last)",
      "\u001b[1;32m<ipython-input-72-a9ff728b092e>\u001b[0m in \u001b[0;36m<module>\u001b[1;34m\u001b[0m\n\u001b[0;32m      1\u001b[0m gdf = geodb.filter_collection_by_bbox(collection=\"land_use\", minx=452750.0, miny=88909.549, maxx=464000.0, maxy=102486.299,\n\u001b[1;32m----> 2\u001b[1;33m                            bbox_mode=\"contains\", bbox_crs=3794, limit=2, offset=10, namespace='geodb_admin')\n\u001b[0m\u001b[0;32m      3\u001b[0m \u001b[0mgdf\u001b[0m\u001b[1;33m\u001b[0m\u001b[1;33m\u001b[0m\u001b[0m\n",
      "\u001b[1;32mc:\\users\\helge\\ideaprojects\\dcfs-geodb\\dcfs_geodb\\core\\geodb.py\u001b[0m in \u001b[0;36mfilter_collection_by_bbox\u001b[1;34m(self, collection, minx, miny, maxx, maxy, bbox_mode, bbox_crs, limit, offset, namespace)\u001b[0m\n\u001b[0;32m    628\u001b[0m         \u001b[0mExamples\u001b[0m\u001b[1;33m:\u001b[0m\u001b[1;33m\u001b[0m\u001b[1;33m\u001b[0m\u001b[0m\n\u001b[0;32m    629\u001b[0m             \u001b[1;33m>>\u001b[0m\u001b[1;33m>\u001b[0m \u001b[0mgeodb\u001b[0m \u001b[1;33m=\u001b[0m \u001b[0mGeoDBClient\u001b[0m\u001b[1;33m(\u001b[0m\u001b[1;33m)\u001b[0m\u001b[1;33m\u001b[0m\u001b[1;33m\u001b[0m\u001b[0m\n\u001b[1;32m--> 630\u001b[1;33m             >>> geodb.filter_collection_by_bbox(table=\"land_use\",minx=452750.0, miny=88909.549, maxx=464000.0, \\\n\u001b[0m\u001b[0;32m    631\u001b[0m                 maxy=102486.299, bbox_mode=\"contains\", bbox_crs=3794, limit=10, offset=10)\n\u001b[0;32m    632\u001b[0m         \"\"\"\n",
      "\u001b[1;32mc:\\users\\helge\\ideaprojects\\dcfs-geodb\\dcfs_geodb\\core\\geodb.py\u001b[0m in \u001b[0;36m_raise_for_collection_exists\u001b[1;34m(self, collection)\u001b[0m\n\u001b[0;32m    981\u001b[0m \u001b[1;33m\u001b[0m\u001b[0m\n\u001b[0;32m    982\u001b[0m         \u001b[0mArgs\u001b[0m\u001b[1;33m:\u001b[0m\u001b[1;33m\u001b[0m\u001b[1;33m\u001b[0m\u001b[0m\n\u001b[1;32m--> 983\u001b[1;33m             \u001b[0mcollection\u001b[0m\u001b[1;33m:\u001b[0m \u001b[0mA\u001b[0m \u001b[0mtable\u001b[0m \u001b[0mname\u001b[0m \u001b[0mto\u001b[0m \u001b[0mcheck\u001b[0m\u001b[1;33m\u001b[0m\u001b[1;33m\u001b[0m\u001b[0m\n\u001b[0m\u001b[0;32m    984\u001b[0m \u001b[1;33m\u001b[0m\u001b[0m\n\u001b[0;32m    985\u001b[0m         \u001b[0mReturns\u001b[0m\u001b[1;33m:\u001b[0m\u001b[1;33m\u001b[0m\u001b[1;33m\u001b[0m\u001b[0m\n",
      "\u001b[1;31mValueError\u001b[0m: Dataset geodb_admin_land_use does not exist"
     ]
    }
   ],
   "source": [
    "gdf = geodb.filter_collection_by_bbox(collection=\"land_use\", minx=452750.0, miny=88909.549, maxx=464000.0, maxy=102486.299,\n",
    "                           bbox_mode=\"contains\", bbox_crs=3794, limit=2, offset=10, namespace='geodb_admin')\n",
    "gdf"
   ]
  },
  {
   "cell_type": "code",
   "execution_count": null,
   "metadata": {},
   "outputs": [],
   "source": []
  }
 ],
 "metadata": {
  "kernelspec": {
   "display_name": "Python 3",
   "language": "python",
   "name": "python3"
  },
  "language_info": {
   "codemirror_mode": {
    "name": "ipython",
    "version": 3
   },
   "file_extension": ".py",
   "mimetype": "text/x-python",
   "name": "python",
   "nbconvert_exporter": "python",
   "pygments_lexer": "ipython3",
   "version": "3.7.3"
  }
 },
 "nbformat": 4,
 "nbformat_minor": 4
}
