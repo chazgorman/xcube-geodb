{
 "cells": [
  {
   "cell_type": "markdown",
   "metadata": {},
   "source": [
    "# geoDB Access\n",
    "\n",
    "The geoDB is a service provided by the [Euro Data Cube project](https://eurodatacube.com) (EDC) as a payed service. It comes\n",
    "with a Python client that provides hugh level acess to your data and a certain amount of space in a PostGreSQL database. For managing (as sharing is) \n",
    "your data you will need a management (read/write) account to your database which you can purchase at the [EDC market place](https://hub.eox.at).\n",
    "\n",
    "You can access the service in two ways:\n",
    "\n",
    "- By using the Jupyter Python notebook provided by EOX (configuartion free, ```geodb = GeoDBClient()```)\n",
    "- By using you own Jupyter notebook or Python script by providing a client id and secret to the GeoDBClient (```geodb = GeoDBClient(client_id=\"myid\", client_secret=\"mysecet\")```)\n",
    "\n",
    "The client ID and secret is also provided by EOX in the latter case. You will find them in your EOX hub account section. You can also provide the credentials\n",
    "via system environment varibles (GEODB_AUTH_CLIENT_ID and GEODB_AUTH_CLIENT_SECRET). These variables can be supplied via a .env file. \n",
    "\n",
    "There are two different types of geoDB accounts: a read only and a management (read/write) access. The system will determine your access right through your \n",
    "authentication credentials.\n"
   ]
  },
  {
   "cell_type": "markdown",
   "metadata": {},
   "source": [
    "## Sharing Data"
   ]
  },
  {
   "cell_type": "code",
   "execution_count": 1,
   "metadata": {},
   "outputs": [],
   "source": [
    "from xcube_geodb.core.geodb import GeoDBClient"
   ]
  },
  {
   "cell_type": "code",
   "execution_count": 2,
   "metadata": {},
   "outputs": [
    {
     "data": {
      "text/plain": [
       "'geodb_admin'"
      ]
     },
     "execution_count": 2,
     "metadata": {},
     "output_type": "execute_result"
    }
   ],
   "source": [
    "geodb = GeoDBClient()\n",
    "geodb.whoami"
   ]
  },
  {
   "cell_type": "markdown",
   "metadata": {},
   "source": [
    "### Publish Dataset to the world"
   ]
  },
  {
   "cell_type": "code",
   "execution_count": 7,
   "metadata": {},
   "outputs": [
    {
     "data": {
      "text/html": [
       "<div>\n",
       "<style scoped>\n",
       "    .dataframe tbody tr th:only-of-type {\n",
       "        vertical-align: middle;\n",
       "    }\n",
       "\n",
       "    .dataframe tbody tr th {\n",
       "        vertical-align: top;\n",
       "    }\n",
       "\n",
       "    .dataframe thead th {\n",
       "        text-align: right;\n",
       "    }\n",
       "</style>\n",
       "<table border=\"1\" class=\"dataframe\">\n",
       "  <thead>\n",
       "    <tr style=\"text-align: right;\">\n",
       "      <th></th>\n",
       "      <th>table_name</th>\n",
       "      <th>grantee</th>\n",
       "    </tr>\n",
       "  </thead>\n",
       "  <tbody>\n",
       "    <tr>\n",
       "      <th>0</th>\n",
       "      <td>public_land_use</td>\n",
       "      <td>PUBLIC</td>\n",
       "    </tr>\n",
       "  </tbody>\n",
       "</table>\n",
       "</div>"
      ],
      "text/plain": [
       "        table_name grantee\n",
       "0  public_land_use  PUBLIC"
      ]
     },
     "execution_count": 7,
     "metadata": {},
     "output_type": "execute_result"
    }
   ],
   "source": [
    "geodb.list_grants()"
   ]
  },
  {
   "cell_type": "code",
   "execution_count": 6,
   "metadata": {},
   "outputs": [
    {
     "data": {
      "text/plain": [
       "Access granted on land_use to public"
      ]
     },
     "execution_count": 6,
     "metadata": {},
     "output_type": "execute_result"
    }
   ],
   "source": [
    "geodb.publish_collection(\"land_use\")"
   ]
  },
  {
   "cell_type": "code",
   "execution_count": 8,
   "metadata": {},
   "outputs": [
    {
     "data": {
      "text/html": [
       "<div>\n",
       "<style scoped>\n",
       "    .dataframe tbody tr th:only-of-type {\n",
       "        vertical-align: middle;\n",
       "    }\n",
       "\n",
       "    .dataframe tbody tr th {\n",
       "        vertical-align: top;\n",
       "    }\n",
       "\n",
       "    .dataframe thead th {\n",
       "        text-align: right;\n",
       "    }\n",
       "</style>\n",
       "<table border=\"1\" class=\"dataframe\">\n",
       "  <thead>\n",
       "    <tr style=\"text-align: right;\">\n",
       "      <th></th>\n",
       "      <th>table_name</th>\n",
       "      <th>grantee</th>\n",
       "    </tr>\n",
       "  </thead>\n",
       "  <tbody>\n",
       "    <tr>\n",
       "      <th>0</th>\n",
       "      <td>public_land_use</td>\n",
       "      <td>PUBLIC</td>\n",
       "    </tr>\n",
       "  </tbody>\n",
       "</table>\n",
       "</div>"
      ],
      "text/plain": [
       "        table_name grantee\n",
       "0  public_land_use  PUBLIC"
      ]
     },
     "execution_count": 8,
     "metadata": {},
     "output_type": "execute_result"
    }
   ],
   "source": [
    "geodb.list_grants()"
   ]
  },
  {
   "cell_type": "code",
   "execution_count": 9,
   "metadata": {},
   "outputs": [
    {
     "data": {
      "text/html": [
       "<div>\n",
       "<style scoped>\n",
       "    .dataframe tbody tr th:only-of-type {\n",
       "        vertical-align: middle;\n",
       "    }\n",
       "\n",
       "    .dataframe tbody tr th {\n",
       "        vertical-align: top;\n",
       "    }\n",
       "\n",
       "    .dataframe thead th {\n",
       "        text-align: right;\n",
       "    }\n",
       "</style>\n",
       "<table border=\"1\" class=\"dataframe\">\n",
       "  <thead>\n",
       "    <tr style=\"text-align: right;\">\n",
       "      <th></th>\n",
       "      <th>id</th>\n",
       "      <th>created_at</th>\n",
       "      <th>modified_at</th>\n",
       "      <th>geometry</th>\n",
       "      <th>raba_pid</th>\n",
       "      <th>raba_id</th>\n",
       "      <th>d_od</th>\n",
       "      <th>testä_prop</th>\n",
       "    </tr>\n",
       "  </thead>\n",
       "  <tbody>\n",
       "    <tr>\n",
       "      <th>0</th>\n",
       "      <td>1</td>\n",
       "      <td>2020-01-31T11:08:35.241344+00:00</td>\n",
       "      <td>None</td>\n",
       "      <td>POLYGON ((453952.629 91124.177, 453952.696 911...</td>\n",
       "      <td>4770326</td>\n",
       "      <td>1410</td>\n",
       "      <td>2019-03-26</td>\n",
       "      <td>None</td>\n",
       "    </tr>\n",
       "    <tr>\n",
       "      <th>1</th>\n",
       "      <td>19655</td>\n",
       "      <td>2020-05-08T06:51:17.034744+00:00</td>\n",
       "      <td>None</td>\n",
       "      <td>POLYGON ((453952.629 91124.177, 453952.696 911...</td>\n",
       "      <td>4770326</td>\n",
       "      <td>1410</td>\n",
       "      <td>2019-03-26</td>\n",
       "      <td>None</td>\n",
       "    </tr>\n",
       "    <tr>\n",
       "      <th>2</th>\n",
       "      <td>4</td>\n",
       "      <td>2020-01-31T11:08:35.241344+00:00</td>\n",
       "      <td>None</td>\n",
       "      <td>POLYGON ((455929.405 97963.785, 455933.284 979...</td>\n",
       "      <td>2305596</td>\n",
       "      <td>1100</td>\n",
       "      <td>2019-02-25</td>\n",
       "      <td>None</td>\n",
       "    </tr>\n",
       "    <tr>\n",
       "      <th>3</th>\n",
       "      <td>5</td>\n",
       "      <td>2020-01-31T11:08:35.241344+00:00</td>\n",
       "      <td>None</td>\n",
       "      <td>POLYGON ((461561.512 96119.256, 461632.114 960...</td>\n",
       "      <td>2310160</td>\n",
       "      <td>1100</td>\n",
       "      <td>2019-03-11</td>\n",
       "      <td>None</td>\n",
       "    </tr>\n",
       "    <tr>\n",
       "      <th>4</th>\n",
       "      <td>6</td>\n",
       "      <td>2020-01-31T11:08:35.241344+00:00</td>\n",
       "      <td>None</td>\n",
       "      <td>POLYGON ((458139.092 95583.227, 458136.249 955...</td>\n",
       "      <td>3602865</td>\n",
       "      <td>1500</td>\n",
       "      <td>2019-01-05</td>\n",
       "      <td>None</td>\n",
       "    </tr>\n",
       "    <tr>\n",
       "      <th>...</th>\n",
       "      <td>...</td>\n",
       "      <td>...</td>\n",
       "      <td>...</td>\n",
       "      <td>...</td>\n",
       "      <td>...</td>\n",
       "      <td>...</td>\n",
       "      <td>...</td>\n",
       "      <td>...</td>\n",
       "    </tr>\n",
       "    <tr>\n",
       "      <th>37767</th>\n",
       "      <td>39246</td>\n",
       "      <td>2020-05-11T11:18:16.044507+00:00</td>\n",
       "      <td>2020-05-11T11:18:26.342697+00:00</td>\n",
       "      <td>POLYGON ((458304.555 100146.103, 458306.726 10...</td>\n",
       "      <td>6268058</td>\n",
       "      <td>1300</td>\n",
       "      <td>2000-01-01</td>\n",
       "      <td>None</td>\n",
       "    </tr>\n",
       "    <tr>\n",
       "      <th>37768</th>\n",
       "      <td>39247</td>\n",
       "      <td>2020-05-11T11:18:16.044507+00:00</td>\n",
       "      <td>2020-05-11T11:18:26.342697+00:00</td>\n",
       "      <td>POLYGON ((458247.583 99746.065, 458245.202 997...</td>\n",
       "      <td>6268059</td>\n",
       "      <td>1300</td>\n",
       "      <td>2000-01-01</td>\n",
       "      <td>None</td>\n",
       "    </tr>\n",
       "    <tr>\n",
       "      <th>37769</th>\n",
       "      <td>39248</td>\n",
       "      <td>2020-05-11T11:18:16.044507+00:00</td>\n",
       "      <td>2020-05-11T11:18:26.342697+00:00</td>\n",
       "      <td>POLYGON ((461932.283 90520.703, 461931.619 905...</td>\n",
       "      <td>6263561</td>\n",
       "      <td>1300</td>\n",
       "      <td>2000-01-01</td>\n",
       "      <td>None</td>\n",
       "    </tr>\n",
       "    <tr>\n",
       "      <th>37770</th>\n",
       "      <td>39279</td>\n",
       "      <td>2020-05-11T11:18:16.044507+00:00</td>\n",
       "      <td>2020-05-11T11:18:26.342697+00:00</td>\n",
       "      <td>POLYGON ((457231.170 90902.256, 457234.861 909...</td>\n",
       "      <td>6264862</td>\n",
       "      <td>1300</td>\n",
       "      <td>2000-01-01</td>\n",
       "      <td>None</td>\n",
       "    </tr>\n",
       "    <tr>\n",
       "      <th>37771</th>\n",
       "      <td>39280</td>\n",
       "      <td>2020-05-11T11:18:16.044507+00:00</td>\n",
       "      <td>2020-05-11T11:18:26.342697+00:00</td>\n",
       "      <td>POLYGON ((461378.845 91124.318, 461490.224 911...</td>\n",
       "      <td>6264865</td>\n",
       "      <td>1300</td>\n",
       "      <td>2000-01-01</td>\n",
       "      <td>None</td>\n",
       "    </tr>\n",
       "  </tbody>\n",
       "</table>\n",
       "<p>37772 rows × 8 columns</p>\n",
       "</div>"
      ],
      "text/plain": [
       "          id                        created_at  \\\n",
       "0          1  2020-01-31T11:08:35.241344+00:00   \n",
       "1      19655  2020-05-08T06:51:17.034744+00:00   \n",
       "2          4  2020-01-31T11:08:35.241344+00:00   \n",
       "3          5  2020-01-31T11:08:35.241344+00:00   \n",
       "4          6  2020-01-31T11:08:35.241344+00:00   \n",
       "...      ...                               ...   \n",
       "37767  39246  2020-05-11T11:18:16.044507+00:00   \n",
       "37768  39247  2020-05-11T11:18:16.044507+00:00   \n",
       "37769  39248  2020-05-11T11:18:16.044507+00:00   \n",
       "37770  39279  2020-05-11T11:18:16.044507+00:00   \n",
       "37771  39280  2020-05-11T11:18:16.044507+00:00   \n",
       "\n",
       "                            modified_at  \\\n",
       "0                                  None   \n",
       "1                                  None   \n",
       "2                                  None   \n",
       "3                                  None   \n",
       "4                                  None   \n",
       "...                                 ...   \n",
       "37767  2020-05-11T11:18:26.342697+00:00   \n",
       "37768  2020-05-11T11:18:26.342697+00:00   \n",
       "37769  2020-05-11T11:18:26.342697+00:00   \n",
       "37770  2020-05-11T11:18:26.342697+00:00   \n",
       "37771  2020-05-11T11:18:26.342697+00:00   \n",
       "\n",
       "                                                geometry  raba_pid  raba_id  \\\n",
       "0      POLYGON ((453952.629 91124.177, 453952.696 911...   4770326     1410   \n",
       "1      POLYGON ((453952.629 91124.177, 453952.696 911...   4770326     1410   \n",
       "2      POLYGON ((455929.405 97963.785, 455933.284 979...   2305596     1100   \n",
       "3      POLYGON ((461561.512 96119.256, 461632.114 960...   2310160     1100   \n",
       "4      POLYGON ((458139.092 95583.227, 458136.249 955...   3602865     1500   \n",
       "...                                                  ...       ...      ...   \n",
       "37767  POLYGON ((458304.555 100146.103, 458306.726 10...   6268058     1300   \n",
       "37768  POLYGON ((458247.583 99746.065, 458245.202 997...   6268059     1300   \n",
       "37769  POLYGON ((461932.283 90520.703, 461931.619 905...   6263561     1300   \n",
       "37770  POLYGON ((457231.170 90902.256, 457234.861 909...   6264862     1300   \n",
       "37771  POLYGON ((461378.845 91124.318, 461490.224 911...   6264865     1300   \n",
       "\n",
       "             d_od testä_prop  \n",
       "0      2019-03-26       None  \n",
       "1      2019-03-26       None  \n",
       "2      2019-02-25       None  \n",
       "3      2019-03-11       None  \n",
       "4      2019-01-05       None  \n",
       "...           ...        ...  \n",
       "37767  2000-01-01       None  \n",
       "37768  2000-01-01       None  \n",
       "37769  2000-01-01       None  \n",
       "37770  2000-01-01       None  \n",
       "37771  2000-01-01       None  \n",
       "\n",
       "[37772 rows x 8 columns]"
      ]
     },
     "execution_count": 9,
     "metadata": {},
     "output_type": "execute_result"
    }
   ],
   "source": [
    "geodb.get_collection('land_use', database='public')"
   ]
  },
  {
   "cell_type": "markdown",
   "metadata": {},
   "source": [
    "### Revoke access"
   ]
  },
  {
   "cell_type": "code",
   "execution_count": 10,
   "metadata": {},
   "outputs": [
    {
     "data": {
      "text/html": [
       "<div>\n",
       "<style scoped>\n",
       "    .dataframe tbody tr th:only-of-type {\n",
       "        vertical-align: middle;\n",
       "    }\n",
       "\n",
       "    .dataframe tbody tr th {\n",
       "        vertical-align: top;\n",
       "    }\n",
       "\n",
       "    .dataframe thead th {\n",
       "        text-align: right;\n",
       "    }\n",
       "</style>\n",
       "<table border=\"1\" class=\"dataframe\">\n",
       "  <thead>\n",
       "    <tr style=\"text-align: right;\">\n",
       "      <th></th>\n",
       "      <th>table_name</th>\n",
       "      <th>grantee</th>\n",
       "    </tr>\n",
       "  </thead>\n",
       "  <tbody>\n",
       "    <tr>\n",
       "      <th>0</th>\n",
       "      <td>public_land_use</td>\n",
       "      <td>PUBLIC</td>\n",
       "    </tr>\n",
       "  </tbody>\n",
       "</table>\n",
       "</div>"
      ],
      "text/plain": [
       "        table_name grantee\n",
       "0  public_land_use  PUBLIC"
      ]
     },
     "execution_count": 10,
     "metadata": {},
     "output_type": "execute_result"
    }
   ],
   "source": [
    "geodb.list_grants()"
   ]
  },
  {
   "cell_type": "code",
   "execution_count": 11,
   "metadata": {},
   "outputs": [
    {
     "data": {
      "text/plain": [
       "Access revoked for land_use from public"
      ]
     },
     "execution_count": 11,
     "metadata": {},
     "output_type": "execute_result"
    }
   ],
   "source": [
    "geodb.unpublish_collection(\"land_use\")"
   ]
  },
  {
   "cell_type": "code",
   "execution_count": 12,
   "metadata": {},
   "outputs": [
    {
     "data": {
      "text/html": [
       "<div>\n",
       "<style scoped>\n",
       "    .dataframe tbody tr th:only-of-type {\n",
       "        vertical-align: middle;\n",
       "    }\n",
       "\n",
       "    .dataframe tbody tr th {\n",
       "        vertical-align: top;\n",
       "    }\n",
       "\n",
       "    .dataframe thead th {\n",
       "        text-align: right;\n",
       "    }\n",
       "</style>\n",
       "<table border=\"1\" class=\"dataframe\">\n",
       "  <thead>\n",
       "    <tr style=\"text-align: right;\">\n",
       "      <th></th>\n",
       "      <th>table_name</th>\n",
       "    </tr>\n",
       "  </thead>\n",
       "  <tbody>\n",
       "  </tbody>\n",
       "</table>\n",
       "</div>"
      ],
      "text/plain": [
       "Empty DataFrame\n",
       "Columns: [table_name]\n",
       "Index: []"
      ]
     },
     "execution_count": 12,
     "metadata": {},
     "output_type": "execute_result"
    }
   ],
   "source": [
    "geodb.list_grants()"
   ]
  },
  {
   "cell_type": "code",
   "execution_count": null,
   "metadata": {},
   "outputs": [],
   "source": [
    "gdf = geodb.get_collection_by_bbox(collection=\"land_use\", bbox=(452750.0, 88909.549, 464000.0, 102486.299),\n",
    "                comparison_mode=\"contains\", bbox_crs=3794, limit=2, offset=10, database='public')\n",
    "gdf"
   ]
  },
  {
   "cell_type": "code",
   "execution_count": null,
   "metadata": {},
   "outputs": [],
   "source": []
  }
 ],
 "metadata": {
  "kernelspec": {
   "display_name": "Python 3",
   "language": "python",
   "name": "python3"
  },
  "language_info": {
   "codemirror_mode": {
    "name": "ipython",
    "version": 3
   },
   "file_extension": ".py",
   "mimetype": "text/x-python",
   "name": "python",
   "nbconvert_exporter": "python",
   "pygments_lexer": "ipython3",
   "version": "3.8.2"
  },
  "pycharm": {
   "stem_cell": {
    "cell_type": "raw",
    "metadata": {
     "collapsed": false
    },
    "source": []
   }
  }
 },
 "nbformat": 4,
 "nbformat_minor": 4
}
