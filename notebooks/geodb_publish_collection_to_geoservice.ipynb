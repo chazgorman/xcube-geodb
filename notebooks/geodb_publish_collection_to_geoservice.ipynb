{
 "cells": [
  {
   "cell_type": "markdown",
   "metadata": {},
   "source": [
    "# Publish your Collection using the EDC / BC Geoservice"
   ]
  },
  {
   "cell_type": "markdown",
   "metadata": {
    "pycharm": {
     "name": "#%% md\n"
    }
   },
   "source": [
    "This notebook demonstrates how to publish your collections as WMS and WFS service. The BC geoservice provides access to publishing your collection as a WMS service using the geoDB Python client. Please refer to the [geoserver](https://docs.geoserver.org/latest/en/user/services/wms/reference.html) documentation for configuring the rest API call to your WMS/geojson service.\n",
    "\n",
    "You will have access to this service if you have purchased a large management account. If your account does not permit you to publish your dataset using the GeoServer (error message \"Provided token doesn't have the required scope\"), please request an upgraded account.\n",
    "Also please note that this service is in beta mode. If you find any issues, please report them on our [GitHub Issues page](https://github.com/bcdev/xcube-hub/issues)."
   ]
  },
  {
   "cell_type": "markdown",
   "metadata": {},
   "source": [
    "## Init the GeoDB client"
   ]
  },
  {
   "cell_type": "code",
   "execution_count": null,
   "outputs": [],
   "source": [
    "from xcube_geodb.core.geodb import GeoDBClient\n",
    "\n",
    "geodb = GeoDBClient(gs_server_url='https://xcube-gen.brockmann-consult.de')\n",
    "geodb._gs_server_url"
   ],
   "metadata": {
    "collapsed": false,
    "pycharm": {
     "name": "#%%\n"
    }
   }
  },
  {
   "cell_type": "markdown",
   "source": [
    "## Create a Database and Copy some Public Data Across"
   ],
   "metadata": {
    "collapsed": false,
    "pycharm": {
     "name": "#%% md\n"
    }
   }
  },
  {
   "cell_type": "code",
   "execution_count": null,
   "outputs": [],
   "source": [
    "my_database_name = 'my_eurocrops'\n",
    "if not geodb.database_exists(my_database_name):\n",
    "    geodb.create_database(my_database_name)"
   ],
   "metadata": {
    "collapsed": false,
    "pycharm": {
     "name": "#%%\n"
    }
   }
  },
  {
   "cell_type": "markdown",
   "source": [
    "Here we copy a collection from a public database, so we can publish as a geoservice. "
   ],
   "metadata": {
    "collapsed": false,
    "pycharm": {
     "name": "#%% md\n"
    }
   }
  },
  {
   "cell_type": "code",
   "execution_count": null,
   "outputs": [],
   "source": [
    "my_collection = 'AT_2021_EC21'\n",
    "geodb.copy_collection(collection=my_collection, new_collection=my_collection, database='geodb_b34bfae7-9265-4a3e-b921-06549d3c6035', new_database=my_database_name)"
   ],
   "metadata": {
    "collapsed": false,
    "pycharm": {
     "name": "#%%\n"
    }
   }
  },
  {
   "cell_type": "markdown",
   "source": [
    "You can check if the colleciton was successfully added to your database:"
   ],
   "metadata": {
    "collapsed": false,
    "pycharm": {
     "name": "#%% md\n"
    }
   }
  },
  {
   "cell_type": "code",
   "execution_count": null,
   "outputs": [],
   "source": [
    "geodb.get_my_collections(database=my_database_name)"
   ],
   "metadata": {
    "collapsed": false,
    "pycharm": {
     "name": "#%%\n"
    }
   }
  },
  {
   "cell_type": "code",
   "execution_count": null,
   "outputs": [],
   "source": [
    "## List Collections Published on the BC WMS Service\n",
    "\n",
    "geodb.get_published_gs(database=my_database_name)"
   ],
   "metadata": {
    "collapsed": false,
    "pycharm": {
     "name": "#%%\n"
    }
   }
  },
  {
   "cell_type": "markdown",
   "metadata": {
    "pycharm": {
     "name": "#%% md\n"
    }
   },
   "source": [
    "## Publish your Collection to the BC WMS Service"
   ]
  },
  {
   "cell_type": "code",
   "execution_count": null,
   "metadata": {
    "pycharm": {
     "name": "#%%\n"
    }
   },
   "outputs": [],
   "source": [
    "geodb.publish_gs(collection=my_collection, database=my_database_name)"
   ]
  },
  {
   "cell_type": "markdown",
   "metadata": {
    "pycharm": {
     "name": "#%% md\n"
    }
   },
   "source": [
    "You can now click on the preview link which will give you an unstyled view of your WMS output."
   ]
  },
  {
   "cell_type": "code",
   "execution_count": null,
   "metadata": {
    "pycharm": {
     "name": "#%%\n"
    }
   },
   "outputs": [],
   "source": [
    "## List Collections Published on the BC WMS Service\n",
    "\n",
    "geodb.get_published_gs(database=my_database_name)"
   ]
  },
  {
   "cell_type": "markdown",
   "metadata": {
    "pycharm": {
     "name": "#%% md\n"
    }
   },
   "source": [
    "## View the Data\n",
    "\n",
    "Once you have published you collection, you can use the WMS service to visualise your collection. For this using ipyleaflet. In this example we have used a pre-defined style. You can always provide a custom style using the parameter `sld`. We have provided a class that will pass that parameter to the WMS service. Just replace WMSLayer with SldWMSLayer. The `sld`parameter is given as a URL to an SLD file."
   ]
  },
  {
   "cell_type": "code",
   "execution_count": null,
   "metadata": {
    "pycharm": {
     "name": "#%%\n"
    }
   },
   "outputs": [],
   "source": [
    "url = f\"http://xcube-geodb.brockmann-consult.de/geoserver/{my_database_name}/wms?\"\n"
   ]
  },
  {
   "cell_type": "code",
   "execution_count": null,
   "metadata": {
    "pycharm": {
     "name": "#%%\n"
    }
   },
   "outputs": [],
   "source": [
    "from ipyleaflet import Map, WMSLayer, basemaps"
   ]
  },
  {
   "cell_type": "code",
   "execution_count": null,
   "metadata": {
    "pycharm": {
     "name": "#%%\n"
    }
   },
   "outputs": [],
   "source": [
    "from traitlets import Unicode\n",
    "\n",
    "class SldWMSLayer(WMSLayer):\n",
    "\n",
    "    sld = Unicode('').tag(sync=True, o=True)\n"
   ]
  },
  {
   "cell_type": "code",
   "execution_count": null,
   "metadata": {
    "pycharm": {
     "name": "#%%\n"
    }
   },
   "outputs": [],
   "source": [
    "wmsn = WMSLayer(\n",
    "    url=url,\n",
    "    layers=f'{my_database_name}:{my_database_name}_AT_2021_EC21',\n",
    "    format='image/png',\n",
    "    opacity=0.5,\n",
    "    attribution='Copernicus',\n",
    "    styles='ljubilana'\n",
    "#     sld='https://raw.githubusercontent.com/dzelge/test-gha/main/ljubilana.sld'\n",
    ")"
   ]
  },
  {
   "cell_type": "code",
   "execution_count": null,
   "metadata": {
    "pycharm": {
     "name": "#%%\n"
    }
   },
   "outputs": [],
   "source": [
    "m = Map(basemap=basemaps.CartoDB.Positron, center=(46.0, 14.5), zoom=13)\n",
    "m.add_layer(wmsn)\n",
    "\n",
    "m"
   ]
  },
  {
   "cell_type": "markdown",
   "source": [
    "## Revert the changes made to the database\n",
    "\n",
    "The following lines demonstrate how to remove the collection from the GeoServer again, and how to drop the collection from your database."
   ],
   "metadata": {
    "collapsed": false,
    "pycharm": {
     "name": "#%% md\n"
    }
   }
  },
  {
   "cell_type": "code",
   "execution_count": null,
   "metadata": {
    "pycharm": {
     "name": "#%%\n"
    }
   },
   "outputs": [],
   "source": [
    "geodb.unpublish_gs(collection=my_collection, database=my_database_name)"
   ]
  },
  {
   "cell_type": "code",
   "execution_count": null,
   "metadata": {
    "pycharm": {
     "name": "#%%\n"
    }
   },
   "outputs": [],
   "source": [
    "geodb.drop_collection(my_collection, database=my_database_name)"
   ]
  }
 ],
 "metadata": {
  "kernelspec": {
   "display_name": "Python 3 (ipykernel)",
   "language": "python",
   "name": "python3"
  },
  "language_info": {
   "codemirror_mode": {
    "name": "ipython",
    "version": 3
   },
   "file_extension": ".py",
   "mimetype": "text/x-python",
   "name": "python",
   "nbconvert_exporter": "python",
   "pygments_lexer": "ipython3",
   "version": "3.10.5"
  }
 },
 "nbformat": 4,
 "nbformat_minor": 4
}