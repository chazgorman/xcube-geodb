{
 "cells": [
  {
   "cell_type": "markdown",
   "metadata": {},
   "source": [
    "# geoDB Access\n",
    "\n",
    "The geoDB is a service provided by the [Euro Data Cube project](https://eurodatacube.com) (EDC) as a payed service. It comes\n",
    "with a Python client that provides hugh level acess to your data and a certain amount of space in a PostGreSQL database. For managing (as sharing is) \n",
    "your data you will need a management (read/write) account to your database which you can purchase at the [EDC market place](https://hub.eox.at).\n",
    "\n",
    "You can access the service in two ways:\n",
    "\n",
    "- By using the Jupyter Python notebook provided by EOX (configuartion free, ```geodb = GeoDBClient()```)\n",
    "- By using you own Jupyter notebook or Python script by providing a client id and secret to the GeoDBClient (```geodb = GeoDBClient(client_id=\"myid\", client_secret=\"mysecet\")```)\n",
    "\n",
    "The client ID and secret is also provided by EOX in the latter case. You will find them in your EOX hub account section. You can also provide the credentials\n",
    "via system environment varibles (GEODB_AUTH_CLIENT_ID and GEODB_AUTH_CLIENT_SECRET). These variables can be supplied via a .env file. \n",
    "\n",
    "There are two different types of geoDB accounts: a read only and a management (read/write) access. The system will determine your access right through your \n",
    "authentication credentials.\n"
   ]
  },
  {
   "cell_type": "markdown",
   "metadata": {},
   "source": [
    "## Sharing Data"
   ]
  },
  {
   "cell_type": "code",
   "execution_count": 1,
   "metadata": {},
   "outputs": [],
   "source": [
    "from xcube_geodb.core.geodb import GeoDBClient"
   ]
  },
  {
   "cell_type": "code",
   "execution_count": 3,
   "metadata": {},
   "outputs": [],
   "source": [
    "geodb = GeoDBClient()\n"
   ]
  },
  {
   "cell_type": "code",
   "execution_count": 9,
   "metadata": {},
   "outputs": [
    {
     "data": {
      "text/plain": [
       "'https://geodb.brockmann-consult.de'"
      ]
     },
     "execution_count": 9,
     "metadata": {},
     "output_type": "execute_result"
    }
   ],
   "source": [
    "geodb._auth_aud"
   ]
  },
  {
   "cell_type": "code",
   "execution_count": 3,
   "metadata": {
    "jupyter": {
     "source_hidden": true
    }
   },
   "outputs": [
    {
     "name": "stdout",
     "output_type": "stream",
     "text": [
      "Processing rows from 0 to 9827\n"
     ]
    },
    {
     "data": {
      "text/plain": [
       "9827 rows inserted into land_use"
      ]
     },
     "execution_count": 3,
     "metadata": {},
     "output_type": "execute_result"
    }
   ],
   "source": [
    "import geopandas\n",
    "\n",
    "# Have a look at fiona feature schema\n",
    "collections = {\n",
    "        \"land_use\":\n",
    "        {\n",
    "            \"crs\": 3794,\n",
    "            \"properties\":\n",
    "            {\n",
    "                \"RABA_PID\": \"float\",\n",
    "                \"RABA_ID\": \"float\",\n",
    "                \"D_OD\": \"date\"\n",
    "            }\n",
    "        }\n",
    "    }\n",
    "\n",
    "\n",
    "geodb.create_collections(collections, clear=True)\n",
    "\n",
    "gdf = geopandas.read_file('data/sample/land_use.shp')\n",
    "geodb.insert_into_collection('land_use', gdf)"
   ]
  },
  {
   "cell_type": "markdown",
   "metadata": {},
   "source": [
    "### Publish a Collection to the World"
   ]
  },
  {
   "cell_type": "code",
   "execution_count": 4,
   "metadata": {},
   "outputs": [
    {
     "data": {
      "text/html": [
       "<div>\n",
       "<style scoped>\n",
       "    .dataframe tbody tr th:only-of-type {\n",
       "        vertical-align: middle;\n",
       "    }\n",
       "\n",
       "    .dataframe tbody tr th {\n",
       "        vertical-align: top;\n",
       "    }\n",
       "\n",
       "    .dataframe thead th {\n",
       "        text-align: right;\n",
       "    }\n",
       "</style>\n",
       "<table border=\"1\" class=\"dataframe\">\n",
       "  <thead>\n",
       "    <tr style=\"text-align: right;\">\n",
       "      <th></th>\n",
       "      <th>database</th>\n",
       "      <th>table_name</th>\n",
       "      <th>grantee</th>\n",
       "      <th>privileges</th>\n",
       "    </tr>\n",
       "  </thead>\n",
       "  <tbody>\n",
       "    <tr>\n",
       "      <th>0</th>\n",
       "      <td>demo</td>\n",
       "      <td>land_use</td>\n",
       "      <td>PUBLIC</td>\n",
       "      <td>SELECT</td>\n",
       "    </tr>\n",
       "    <tr>\n",
       "      <th>1</th>\n",
       "      <td>phi_week</td>\n",
       "      <td>gran_chaco</td>\n",
       "      <td>geodb_8c2d3fbe-f7a9-4492-8068-121e47e61a4f</td>\n",
       "      <td>SELECT,SELECT</td>\n",
       "    </tr>\n",
       "    <tr>\n",
       "      <th>2</th>\n",
       "      <td>phi_week</td>\n",
       "      <td>gran_chaco</td>\n",
       "      <td>geodb_a2b85af8-6b99-4fa2-acf6-e87d74e40431</td>\n",
       "      <td>SELECT,SELECT</td>\n",
       "    </tr>\n",
       "    <tr>\n",
       "      <th>3</th>\n",
       "      <td>phi_week</td>\n",
       "      <td>gran_chaco</td>\n",
       "      <td>geodb_d2c4722a-cc19-4ec1-b575-0cdb6876d4a7</td>\n",
       "      <td>SELECT,SELECT</td>\n",
       "    </tr>\n",
       "    <tr>\n",
       "      <th>4</th>\n",
       "      <td>phi_week</td>\n",
       "      <td>gran_chaco</td>\n",
       "      <td>PUBLIC</td>\n",
       "      <td>SELECT,SELECT</td>\n",
       "    </tr>\n",
       "  </tbody>\n",
       "</table>\n",
       "</div>"
      ],
      "text/plain": [
       "   database  table_name                                     grantee  \\\n",
       "0      demo    land_use                                      PUBLIC   \n",
       "1  phi_week  gran_chaco  geodb_8c2d3fbe-f7a9-4492-8068-121e47e61a4f   \n",
       "2  phi_week  gran_chaco  geodb_a2b85af8-6b99-4fa2-acf6-e87d74e40431   \n",
       "3  phi_week  gran_chaco  geodb_d2c4722a-cc19-4ec1-b575-0cdb6876d4a7   \n",
       "4  phi_week  gran_chaco                                      PUBLIC   \n",
       "\n",
       "      privileges  \n",
       "0         SELECT  \n",
       "1  SELECT,SELECT  \n",
       "2  SELECT,SELECT  \n",
       "3  SELECT,SELECT  \n",
       "4  SELECT,SELECT  "
      ]
     },
     "execution_count": 4,
     "metadata": {},
     "output_type": "execute_result"
    }
   ],
   "source": [
    "geodb.list_my_grants()"
   ]
  },
  {
   "cell_type": "code",
   "execution_count": 5,
   "metadata": {},
   "outputs": [
    {
     "data": {
      "text/plain": [
       "Access granted on land_use to geodb_test5"
      ]
     },
     "execution_count": 5,
     "metadata": {},
     "output_type": "execute_result"
    }
   ],
   "source": [
    "geodb.grant_access_to_collection(\"land_use\", 'geodb_test5')"
   ]
  },
  {
   "cell_type": "markdown",
   "metadata": {},
   "source": [
    "### Accessing the Collection as a different User\n",
    "\n",
    "Let's access the collection as a different user (a test user in this case). You should now see a land_use collection."
   ]
  },
  {
   "cell_type": "code",
   "execution_count": 6,
   "metadata": {},
   "outputs": [
    {
     "data": {
      "text/plain": [
       "'geodb_test5'"
      ]
     },
     "execution_count": 6,
     "metadata": {},
     "output_type": "execute_result"
    }
   ],
   "source": [
    "geodb = GeoDBClient(client_id=\"93wdyTwOJebDozSCB4CubsWdFVKrSaXY\", client_secret=\"zv0h3D3s90KAL640bw_MU4XMb6DfpJQloh877mH6Z1Nu4NrgPU2wSG3Ur_poUtqy\")\n",
    "geodb.whoami"
   ]
  },
  {
   "cell_type": "code",
   "execution_count": 8,
   "metadata": {
    "jupyter": {
     "outputs_hidden": false
    },
    "pycharm": {
     "name": "#%%\n"
    }
   },
   "outputs": [],
   "source": [
    "geodb.get_my_collections()"
   ]
  },
  {
   "cell_type": "markdown",
   "metadata": {},
   "source": [
    "### Revoke access\n",
    "\n",
    "Let's go back to the original user"
   ]
  },
  {
   "cell_type": "code",
   "execution_count": 39,
   "metadata": {
    "jupyter": {
     "outputs_hidden": false
    },
    "pycharm": {
     "name": "#%%\n"
    }
   },
   "outputs": [
    {
     "data": {
      "text/plain": [
       "'geodb_admin'"
      ]
     },
     "execution_count": 39,
     "metadata": {},
     "output_type": "execute_result"
    }
   ],
   "source": [
    "geodb = GeoDBClient()\n",
    "geodb.whoami\n"
   ]
  },
  {
   "cell_type": "code",
   "execution_count": 40,
   "metadata": {},
   "outputs": [
    {
     "data": {
      "text/html": [
       "<div>\n",
       "<style scoped>\n",
       "    .dataframe tbody tr th:only-of-type {\n",
       "        vertical-align: middle;\n",
       "    }\n",
       "\n",
       "    .dataframe tbody tr th {\n",
       "        vertical-align: top;\n",
       "    }\n",
       "\n",
       "    .dataframe thead th {\n",
       "        text-align: right;\n",
       "    }\n",
       "</style>\n",
       "<table border=\"1\" class=\"dataframe\">\n",
       "  <thead>\n",
       "    <tr style=\"text-align: right;\">\n",
       "      <th></th>\n",
       "      <th>database</th>\n",
       "      <th>table_name</th>\n",
       "      <th>grantee</th>\n",
       "      <th>privileges</th>\n",
       "    </tr>\n",
       "  </thead>\n",
       "  <tbody>\n",
       "    <tr>\n",
       "      <th>0</th>\n",
       "      <td>geodb_admin</td>\n",
       "      <td>land_use</td>\n",
       "      <td>geodb_test5</td>\n",
       "      <td>SELECT</td>\n",
       "    </tr>\n",
       "  </tbody>\n",
       "</table>\n",
       "</div>"
      ],
      "text/plain": [
       "      database table_name      grantee privileges\n",
       "0  geodb_admin   land_use  geodb_test5     SELECT"
      ]
     },
     "execution_count": 40,
     "metadata": {},
     "output_type": "execute_result"
    }
   ],
   "source": [
    "geodb.list_my_grants()"
   ]
  },
  {
   "cell_type": "code",
   "execution_count": 41,
   "metadata": {},
   "outputs": [
    {
     "data": {
      "text/plain": [
       "Access revoked from geodb_admin on land_use"
      ]
     },
     "execution_count": 41,
     "metadata": {},
     "output_type": "execute_result"
    }
   ],
   "source": [
    "geodb.revoke_access_from_collection(\"land_use\", 'geodb_test5')"
   ]
  },
  {
   "cell_type": "code",
   "execution_count": 42,
   "metadata": {},
   "outputs": [
    {
     "data": {
      "text/html": [
       "<div>\n",
       "<style scoped>\n",
       "    .dataframe tbody tr th:only-of-type {\n",
       "        vertical-align: middle;\n",
       "    }\n",
       "\n",
       "    .dataframe tbody tr th {\n",
       "        vertical-align: top;\n",
       "    }\n",
       "\n",
       "    .dataframe thead th {\n",
       "        text-align: right;\n",
       "    }\n",
       "</style>\n",
       "<table border=\"1\" class=\"dataframe\">\n",
       "  <thead>\n",
       "    <tr style=\"text-align: right;\">\n",
       "      <th></th>\n",
       "      <th>Grants</th>\n",
       "    </tr>\n",
       "  </thead>\n",
       "  <tbody>\n",
       "    <tr>\n",
       "      <th>0</th>\n",
       "      <td>No Grants</td>\n",
       "    </tr>\n",
       "  </tbody>\n",
       "</table>\n",
       "</div>"
      ],
      "text/plain": [
       "      Grants\n",
       "0  No Grants"
      ]
     },
     "execution_count": 42,
     "metadata": {},
     "output_type": "execute_result"
    }
   ],
   "source": [
    "geodb.list_my_grants()"
   ]
  },
  {
   "cell_type": "markdown",
   "metadata": {},
   "source": [
    "### Accessing the Collection as a different User\n",
    "\n",
    "Let's list my collections again as a different user (a test user in this case). You should not see the above land use collection."
   ]
  },
  {
   "cell_type": "code",
   "execution_count": 43,
   "metadata": {},
   "outputs": [
    {
     "data": {
      "text/plain": [
       "'geodb_test5'"
      ]
     },
     "execution_count": 43,
     "metadata": {},
     "output_type": "execute_result"
    }
   ],
   "source": [
    "geodb = GeoDBClient(client_id=\"93wdyTwOJebDozSCB4CubsWdFVKrSaXY\", client_secret=\"zv0h3D3s90KAL640bw_MU4XMb6DfpJQloh877mH6Z1Nu4NrgPU2wSG3Ur_poUtqy\")\n",
    "geodb.whoami"
   ]
  },
  {
   "cell_type": "code",
   "execution_count": 44,
   "metadata": {},
   "outputs": [
    {
     "data": {
      "text/html": [
       "<div>\n",
       "<style scoped>\n",
       "    .dataframe tbody tr th:only-of-type {\n",
       "        vertical-align: middle;\n",
       "    }\n",
       "\n",
       "    .dataframe tbody tr th {\n",
       "        vertical-align: top;\n",
       "    }\n",
       "\n",
       "    .dataframe thead th {\n",
       "        text-align: right;\n",
       "    }\n",
       "</style>\n",
       "<table border=\"1\" class=\"dataframe\">\n",
       "  <thead>\n",
       "    <tr style=\"text-align: right;\">\n",
       "      <th></th>\n",
       "      <th>table_name</th>\n",
       "    </tr>\n",
       "  </thead>\n",
       "  <tbody>\n",
       "  </tbody>\n",
       "</table>\n",
       "</div>"
      ],
      "text/plain": [
       "Empty DataFrame\n",
       "Columns: [table_name]\n",
       "Index: []"
      ]
     },
     "execution_count": 44,
     "metadata": {},
     "output_type": "execute_result"
    }
   ],
   "source": [
    "geodb.get_my_collections()"
   ]
  },
  {
   "cell_type": "code",
   "execution_count": null,
   "metadata": {},
   "outputs": [],
   "source": []
  }
 ],
 "metadata": {
  "kernelspec": {
   "display_name": "Python 3",
   "language": "python",
   "name": "python3"
  },
  "language_info": {
   "codemirror_mode": {
    "name": "ipython",
    "version": 3
   },
   "file_extension": ".py",
   "mimetype": "text/x-python",
   "name": "python",
   "nbconvert_exporter": "python",
   "pygments_lexer": "ipython3",
   "version": "3.8.5"
  }
 },
 "nbformat": 4,
 "nbformat_minor": 4
}
